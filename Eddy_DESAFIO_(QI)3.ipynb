{
  "nbformat": 4,
  "nbformat_minor": 0,
  "metadata": {
    "colab": {
      "name": "Eddy_DESAFIO_(QI)3.ipynb",
      "provenance": [],
      "mount_file_id": "1UOMlo6_Qk_og7NTya1afFJa8MkXPYlEn",
      "authorship_tag": "ABX9TyPSePJ6UNEsqp7xkX8g9unp",
      "include_colab_link": true
    },
    "kernelspec": {
      "name": "python3",
      "display_name": "Python 3"
    },
    "accelerator": "GPU"
  },
  "cells": [
    {
      "cell_type": "markdown",
      "metadata": {
        "id": "view-in-github",
        "colab_type": "text"
      },
      "source": [
        "<a href=\"https://colab.research.google.com/github/EddyGiusepe/Eddy_Desafio_QI3/blob/main/Eddy_DESAFIO_(QI)3.ipynb\" target=\"_parent\"><img src=\"https://colab.research.google.com/assets/colab-badge.svg\" alt=\"Open In Colab\"/></a>"
      ]
    },
    {
      "cell_type": "markdown",
      "metadata": {
        "id": "F815eRpzOyOq"
      },
      "source": [
        "# <h2 align='center'>**PROCESSO SELETIVO $(QI)^3$ - DESAFIO $C$**</h2>\n",
        "\n",
        "\n",
        "## **Cientista de Dados:** Eddy Giusepe Chirinos Isidro"
      ]
    },
    {
      "cell_type": "markdown",
      "metadata": {
        "id": "nhEM3Sa9ZcSa"
      },
      "source": [
        "# **Parte 1 do Desafio**"
      ]
    },
    {
      "cell_type": "markdown",
      "metadata": {
        "id": "5aZWYRQDSRQf"
      },
      "source": [
        "\n",
        "**Contexto e entendimento do problema de negócio**\n",
        "\n",
        "Neste script apresentarei o desafio de uma grande loja de varejo (a BigStore). Esta loja deseja utilizar os seus dados para realizar análises inteligentes com o objetivo de entender melhor a situação do negócio e alavancar suas vendas. Ela possui uma grande base de dados com informações sobre as vendas dos últimos anos.\n",
        "\n",
        "**<font color=\"blue\">O nosso problema de negócio:</font>**\n",
        "\n",
        "Extrair informação dos Dados, de tal maneira que possamos ajudar a esta loja de varejo a **alavancar suas vendas** no menor tempo possível.\n",
        "\n",
        "\n",
        "**<font color=\"blue\">Dataset:</font>**\n",
        "\n",
        "* [BigStore](https://drive.google.com/file/d/1bfQEn6_hcDUySCs4swpxdEbSFNY4-M1T/view)\n",
        "\n",
        "\n",
        "\n",
        "**<font color=\"blue\">Descrição das tabelas nos formato .xlsx:</font>**\n",
        "  * **``Modos_Envio``**: classe padrão, no mesmo dia, primeira classe ou segunda classe  \n",
        "  * **``Formas_Pagamento:``**  crédito ou débito\n",
        "  * **``Regioes:``**  caribe, central, norte ou sul\n",
        "  * **``Estados:``**  aqui temos $223$ estados de diferentes paises\n",
        "  * **``Cidades:``** aqui temos $641$ cidades\n",
        "  * **``Lojas:``**  aqui também temos $641$ lojas distintas\n",
        "  * **``Segmentos:``**  grande empresa, pequenas e medianas empresas e varejo\n",
        "  * **``Clientes:``** aqui temos ID_Cliente, nome do cliente, data de cadastro, etc\n",
        "  * **``Categorias:``** temos $20$ categorias distintas, categoria pai, etc\n",
        "  * **``Produtos:``** temos $101$ produtos diferentes com seus respectivos nomes \n",
        "  * **``Marcas:``** marca do produto\n",
        "  * **``Paises:``** aqui temos $24$ paises\n",
        "  * **``Meta_Pais:``** meta anual de cada país  \n",
        "  * **``Itens:``**  descrição de cada produto\n",
        "  * **``Pedidos:``** temos o ID do pedido, a loja onde se comprou esse produto, cliente que comprou, data de compra, lucro da venda, valor da venda, etc\n",
        "  * **``Pedidos_Pagamento:``**  aqui temos a forma de pagamento, ID do pedido, o valor da venda, etc\n",
        "  * **``Pedidos_Itens:``**  aqui temos a quantidade, desconto, lucro, venda, etc \n",
        "  * **``Pedidos_Envios:``**  aqui temos a data de envio, a venda, etc \n",
        "\n",
        "\\\\\n",
        "\n",
        "\n",
        "Geralmente um projeto está dividido em $5$ etapas, as quais são:\n",
        "\n",
        "\n",
        "<font color=\"red\">I.</font> Coleta de Dados\n",
        "  \n",
        "<font color=\"red\">II.</font> Limpeza e transformação dos Dados \n",
        "  \n",
        "<font color=\"red\">III.</font> Análise e exploração dos Dados\n",
        "  \n",
        "<font color=\"red\">IV.</font> Seleção do modelo\n",
        "  \n",
        "<font color=\"red\">V.</font> Interpretação e apresentação de resultados\n"
      ]
    },
    {
      "cell_type": "markdown",
      "metadata": {
        "id": "istTlvaTqJ6n"
      },
      "source": [
        "Neste projeto vou desenvolver a etapa <font color='red'>I</font> (coleta de nosso Dados) e depois desenvolverei as etapas <font color='red'>II</font> e <font color='red'>III</font> juntas. "
      ]
    },
    {
      "cell_type": "markdown",
      "metadata": {
        "id": "5EtpI6b7ev-Q"
      },
      "source": [
        "## <font color=\"red\">I. COLETA DE DADOS</font>\n",
        "\n",
        "Nesta primeira etapa importo os Dados da loja. Esses Dados estão no formato **.xlsx**. Mas para poder realizar a leitura desses Dados ([BigStore](https://drive.google.com/file/d/1bfQEn6_hcDUySCs4swpxdEbSFNY4-M1T/view)), precisamos em primeiro lugar importar os módulos (chamados também: bibliotecas, livrarias, etc) **mais comuns** que me permitirão desenvolver esta tarefa e as demais que veremos posteriormente. Então, a seguir importamos essas bibliotecas: "
      ]
    },
    {
      "cell_type": "markdown",
      "metadata": {
        "id": "Y1DHA1XapYgn"
      },
      "source": [
        "### 1.<font color=\"blue\">Importamos nossas bibliotecas necessárias</font>"
      ]
    },
    {
      "cell_type": "code",
      "metadata": {
        "id": "T9vZm8BWpVG0"
      },
      "source": [
        "import os # Funcionalidade dependente do sistema operacional\n",
        "import sys # dir(sys)\n",
        "import re # Expressões Regulares\n",
        "\n",
        "\n",
        "import numpy as np # operações numéricas, arrays, algebra linear, etc\n",
        "import pandas as pd # Manipulação e análise de Dados\n",
        "import seaborn as sns # Visualização \n",
        "import matplotlib.pyplot as plt # Visualização\n",
        "%matplotlib inline \n",
        "\n",
        "\n",
        "from sklearn.preprocessing import StandardScaler # Para escalonar nossos Dados\n",
        "from sklearn.cluster import KMeans # O algoritmo KMeans\n",
        "\n",
        "                                                                    \n",
        "import warnings \n",
        "warnings.filterwarnings('ignore')"
      ],
      "execution_count": null,
      "outputs": []
    },
    {
      "cell_type": "markdown",
      "metadata": {
        "id": "T86uFS6Bp8Nr"
      },
      "source": [
        "### 2. Lendo nosso arquivo BigStore.xlsx como um DataFrame\n",
        "\n",
        "\n",
        "Então, carregamos nossos Dados cru. Para isso utilizamos a biblioteca ``Pandas``."
      ]
    },
    {
      "cell_type": "code",
      "metadata": {
        "id": "3lN5Tj9HqRlZ"
      },
      "source": [
        "df_Modos_Envio = pd.read_excel(\"/content/drive/MyDrive/DESAFIO_(QI)3/BigStore_Sujo.xlsx\",\n",
        "                          sheet_name=\"Modos_Envio\", header=0)\n",
        "\n",
        "df_Formas_Pagamento = pd.read_excel(\"/content/drive/MyDrive/DESAFIO_(QI)3/BigStore_Sujo.xlsx\",\n",
        "                          sheet_name=\"Formas_Pagamento\", header=0)\n",
        "\n",
        "df_Regioes = pd.read_excel(\"/content/drive/MyDrive/DESAFIO_(QI)3/BigStore_Sujo.xlsx\",\n",
        "                          sheet_name=\"Regioes\", header=0)\n",
        "\n",
        "df_Estados = pd.read_excel(\"/content/drive/MyDrive/DESAFIO_(QI)3/BigStore_Sujo.xlsx\",\n",
        "                          sheet_name=\"Estados\", header=0)\n",
        "\n",
        "df_Cidades = pd.read_excel(\"/content/drive/MyDrive/DESAFIO_(QI)3/BigStore_Sujo.xlsx\",\n",
        "                          sheet_name=\"Cidades\", header=0)\n",
        "\n",
        "df_Lojas = pd.read_excel(\"/content/drive/MyDrive/DESAFIO_(QI)3/BigStore_Sujo.xlsx\",\n",
        "                          sheet_name=\"Lojas\", header=0)\n",
        "\n",
        "df_Segmentos = pd.read_excel(\"/content/drive/MyDrive/DESAFIO_(QI)3/BigStore_Sujo.xlsx\",\n",
        "                          sheet_name=\"Segmentos\", header=0)\n",
        "\n",
        "df_Clientes = pd.read_excel(\"/content/drive/MyDrive/DESAFIO_(QI)3/BigStore_Sujo.xlsx\",\n",
        "                          sheet_name=\"Clientes\", header=0)\n",
        "\n",
        "df_Categorias = pd.read_excel(\"/content/drive/MyDrive/DESAFIO_(QI)3/BigStore_Sujo.xlsx\",\n",
        "                          sheet_name=\"Categorias\", header=0)\n",
        "\n",
        "df_Produtos = pd.read_excel(\"/content/drive/MyDrive/DESAFIO_(QI)3/BigStore_Sujo.xlsx\",\n",
        "                          sheet_name=\"Produtos\", header=0)\n",
        "\n",
        "df_Marcas = pd.read_excel(\"/content/drive/MyDrive/DESAFIO_(QI)3/BigStore_Sujo.xlsx\",\n",
        "                          sheet_name=\"Marcas\", header=0)\n",
        "\n",
        "df_Paises = pd.read_excel(\"/content/drive/MyDrive/DESAFIO_(QI)3/BigStore_Sujo.xlsx\",\n",
        "                          sheet_name=\"Paises\", header=0)\n",
        "\n",
        "df_Meta_Pais = pd.read_excel(\"/content/drive/MyDrive/DESAFIO_(QI)3/BigStore_Sujo.xlsx\",\n",
        "                          sheet_name=\"Meta_Pais\", header=0)\n",
        "\n",
        "df_Itens = pd.read_excel(\"/content/drive/MyDrive/DESAFIO_(QI)3/BigStore_Sujo.xlsx\",\n",
        "                          sheet_name=\"Itens\", header=0)\n",
        "\n",
        "df_Pedidos = pd.read_excel(\"/content/drive/MyDrive/DESAFIO_(QI)3/BigStore_Sujo.xlsx\",\n",
        "                          sheet_name=\"Pedidos\", header=0)\n",
        "\n",
        "df_Pedidos_Pagamento = pd.read_excel(\"/content/drive/MyDrive/DESAFIO_(QI)3/BigStore_Sujo.xlsx\",\n",
        "                          sheet_name=\"Pedidos_Pagamento\", header=0)\n",
        "\n",
        "df_Pedidos_Itens = pd.read_excel(\"/content/drive/MyDrive/DESAFIO_(QI)3/BigStore_Sujo.xlsx\",\n",
        "                          sheet_name=\"Pedidos_Itens\", header=0)\n",
        "\n",
        "df_Pedidos_Envios = pd.read_excel(\"/content/drive/MyDrive/DESAFIO_(QI)3/BigStore_Sujo.xlsx\",\n",
        "                          sheet_name=\"Pedidos_Envios\", header=0)\n",
        "\n"
      ],
      "execution_count": null,
      "outputs": []
    },
    {
      "cell_type": "code",
      "metadata": {
        "colab": {
          "base_uri": "https://localhost:8080/"
        },
        "id": "moddlhwwxgPC",
        "outputId": "d62c8966-682f-4940-a3d5-c995226e3ac8"
      },
      "source": [
        "# Primeira folha do excel\n",
        "\n",
        "df_Modos_Envio.head()"
      ],
      "execution_count": null,
      "outputs": [
        {
          "output_type": "execute_result",
          "data": {
            "text/html": [
              "<div>\n",
              "<style scoped>\n",
              "    .dataframe tbody tr th:only-of-type {\n",
              "        vertical-align: middle;\n",
              "    }\n",
              "\n",
              "    .dataframe tbody tr th {\n",
              "        vertical-align: top;\n",
              "    }\n",
              "\n",
              "    .dataframe thead th {\n",
              "        text-align: right;\n",
              "    }\n",
              "</style>\n",
              "<table border=\"1\" class=\"dataframe\">\n",
              "  <thead>\n",
              "    <tr style=\"text-align: right;\">\n",
              "      <th></th>\n",
              "      <th>ID_Modo_Envio</th>\n",
              "      <th>Modo de envio</th>\n",
              "    </tr>\n",
              "  </thead>\n",
              "  <tbody>\n",
              "    <tr>\n",
              "      <th>0</th>\n",
              "      <td>1</td>\n",
              "      <td>Classe padrão</td>\n",
              "    </tr>\n",
              "    <tr>\n",
              "      <th>1</th>\n",
              "      <td>2</td>\n",
              "      <td>No mesmo dia</td>\n",
              "    </tr>\n",
              "    <tr>\n",
              "      <th>2</th>\n",
              "      <td>3</td>\n",
              "      <td>Primeira classe</td>\n",
              "    </tr>\n",
              "    <tr>\n",
              "      <th>3</th>\n",
              "      <td>4</td>\n",
              "      <td>Segunda classe</td>\n",
              "    </tr>\n",
              "  </tbody>\n",
              "</table>\n",
              "</div>"
            ],
            "text/plain": [
              "   ID_Modo_Envio    Modo de envio\n",
              "0              1    Classe padrão\n",
              "1              2     No mesmo dia\n",
              "2              3  Primeira classe\n",
              "3              4   Segunda classe"
            ]
          },
          "metadata": {
            "tags": []
          },
          "execution_count": 3
        }
      ]
    },
    {
      "cell_type": "code",
      "metadata": {
        "id": "0fAfgP5fPDUw"
      },
      "source": [
        "# Exportando para um arquivo excel\n",
        "\n",
        "df_Modos_Envio.to_excel(\"Modos_Envio1.xlsx\", index=False)"
      ],
      "execution_count": null,
      "outputs": []
    },
    {
      "cell_type": "code",
      "metadata": {
        "colab": {
          "base_uri": "https://localhost:8080/"
        },
        "id": "gKDooUcLAHFx",
        "outputId": "b059affa-0cf7-49f0-d8bb-29ed29ddc768"
      },
      "source": [
        "# Segunda folha do excel\n",
        "\n",
        "df_Formas_Pagamento"
      ],
      "execution_count": null,
      "outputs": [
        {
          "output_type": "execute_result",
          "data": {
            "text/html": [
              "<div>\n",
              "<style scoped>\n",
              "    .dataframe tbody tr th:only-of-type {\n",
              "        vertical-align: middle;\n",
              "    }\n",
              "\n",
              "    .dataframe tbody tr th {\n",
              "        vertical-align: top;\n",
              "    }\n",
              "\n",
              "    .dataframe thead th {\n",
              "        text-align: right;\n",
              "    }\n",
              "</style>\n",
              "<table border=\"1\" class=\"dataframe\">\n",
              "  <thead>\n",
              "    <tr style=\"text-align: right;\">\n",
              "      <th></th>\n",
              "      <th>ID_Forma_Pagamento</th>\n",
              "      <th>Forma_Pagamento</th>\n",
              "    </tr>\n",
              "  </thead>\n",
              "  <tbody>\n",
              "    <tr>\n",
              "      <th>0</th>\n",
              "      <td>1</td>\n",
              "      <td>Crédito</td>\n",
              "    </tr>\n",
              "    <tr>\n",
              "      <th>1</th>\n",
              "      <td>2</td>\n",
              "      <td>Débito</td>\n",
              "    </tr>\n",
              "  </tbody>\n",
              "</table>\n",
              "</div>"
            ],
            "text/plain": [
              "   ID_Forma_Pagamento Forma_Pagamento\n",
              "0                   1         Crédito\n",
              "1                   2          Débito"
            ]
          },
          "metadata": {
            "tags": []
          },
          "execution_count": 5
        }
      ]
    },
    {
      "cell_type": "code",
      "metadata": {
        "id": "dPr1tmHMREX3"
      },
      "source": [
        "# Exportando para um arquivo excel\n",
        "\n",
        "df_Formas_Pagamento.to_excel(\"Formas_Pagamento1.xlsx\", index=False)"
      ],
      "execution_count": null,
      "outputs": []
    },
    {
      "cell_type": "code",
      "metadata": {
        "colab": {
          "base_uri": "https://localhost:8080/"
        },
        "id": "zsmihvOLhivt",
        "outputId": "0444436a-f28f-49af-a899-c224ec7d8076"
      },
      "source": [
        "# Terceira folha do excel\n",
        "\n",
        "df_Regioes"
      ],
      "execution_count": null,
      "outputs": [
        {
          "output_type": "execute_result",
          "data": {
            "text/html": [
              "<div>\n",
              "<style scoped>\n",
              "    .dataframe tbody tr th:only-of-type {\n",
              "        vertical-align: middle;\n",
              "    }\n",
              "\n",
              "    .dataframe tbody tr th {\n",
              "        vertical-align: top;\n",
              "    }\n",
              "\n",
              "    .dataframe thead th {\n",
              "        text-align: right;\n",
              "    }\n",
              "</style>\n",
              "<table border=\"1\" class=\"dataframe\">\n",
              "  <thead>\n",
              "    <tr style=\"text-align: right;\">\n",
              "      <th></th>\n",
              "      <th>ID_Regiao</th>\n",
              "      <th>Regiao</th>\n",
              "    </tr>\n",
              "  </thead>\n",
              "  <tbody>\n",
              "    <tr>\n",
              "      <th>0</th>\n",
              "      <td>1</td>\n",
              "      <td>Caribe</td>\n",
              "    </tr>\n",
              "    <tr>\n",
              "      <th>1</th>\n",
              "      <td>2</td>\n",
              "      <td>Central</td>\n",
              "    </tr>\n",
              "    <tr>\n",
              "      <th>2</th>\n",
              "      <td>3</td>\n",
              "      <td>Norte</td>\n",
              "    </tr>\n",
              "    <tr>\n",
              "      <th>3</th>\n",
              "      <td>4</td>\n",
              "      <td>Sul</td>\n",
              "    </tr>\n",
              "  </tbody>\n",
              "</table>\n",
              "</div>"
            ],
            "text/plain": [
              "   ID_Regiao   Regiao\n",
              "0          1   Caribe\n",
              "1          2  Central\n",
              "2          3    Norte\n",
              "3          4      Sul"
            ]
          },
          "metadata": {
            "tags": []
          },
          "execution_count": 7
        }
      ]
    },
    {
      "cell_type": "code",
      "metadata": {
        "id": "Yt2uWHffRlE4"
      },
      "source": [
        "# Exportando para um arquivo excel\n",
        "\n",
        "df_Regioes.to_excel(\"Regioes1.xlsx\", index=False)"
      ],
      "execution_count": null,
      "outputs": []
    },
    {
      "cell_type": "code",
      "metadata": {
        "colab": {
          "base_uri": "https://localhost:8080/"
        },
        "id": "6YOVGUSHhitq",
        "outputId": "cc58f2f2-80f5-4eb6-a5f0-d089f999ab7a"
      },
      "source": [
        "# Quarta folha do excel\n",
        "\n",
        "df_Estados.sample(5)"
      ],
      "execution_count": null,
      "outputs": [
        {
          "output_type": "execute_result",
          "data": {
            "text/html": [
              "<div>\n",
              "<style scoped>\n",
              "    .dataframe tbody tr th:only-of-type {\n",
              "        vertical-align: middle;\n",
              "    }\n",
              "\n",
              "    .dataframe tbody tr th {\n",
              "        vertical-align: top;\n",
              "    }\n",
              "\n",
              "    .dataframe thead th {\n",
              "        text-align: right;\n",
              "    }\n",
              "</style>\n",
              "<table border=\"1\" class=\"dataframe\">\n",
              "  <thead>\n",
              "    <tr style=\"text-align: right;\">\n",
              "      <th></th>\n",
              "      <th>ID_Estado</th>\n",
              "      <th>ID_Pais</th>\n",
              "      <th>Estado</th>\n",
              "    </tr>\n",
              "  </thead>\n",
              "  <tbody>\n",
              "    <tr>\n",
              "      <th>83</th>\n",
              "      <td>84</td>\n",
              "      <td>7</td>\n",
              "      <td>Guantânamo</td>\n",
              "    </tr>\n",
              "    <tr>\n",
              "      <th>88</th>\n",
              "      <td>89</td>\n",
              "      <td>16</td>\n",
              "      <td>Hidalgo</td>\n",
              "    </tr>\n",
              "    <tr>\n",
              "      <th>103</th>\n",
              "      <td>104</td>\n",
              "      <td>21</td>\n",
              "      <td>La Romana</td>\n",
              "    </tr>\n",
              "    <tr>\n",
              "      <th>207</th>\n",
              "      <td>208</td>\n",
              "      <td>5</td>\n",
              "      <td>Tarapacá</td>\n",
              "    </tr>\n",
              "    <tr>\n",
              "      <th>180</th>\n",
              "      <td>181</td>\n",
              "      <td>21</td>\n",
              "      <td>San Cristóbal</td>\n",
              "    </tr>\n",
              "  </tbody>\n",
              "</table>\n",
              "</div>"
            ],
            "text/plain": [
              "     ID_Estado  ID_Pais         Estado\n",
              "83          84        7     Guantânamo\n",
              "88          89       16        Hidalgo\n",
              "103        104       21      La Romana\n",
              "207        208        5       Tarapacá\n",
              "180        181       21  San Cristóbal"
            ]
          },
          "metadata": {
            "tags": []
          },
          "execution_count": 9
        }
      ]
    },
    {
      "cell_type": "code",
      "metadata": {
        "colab": {
          "base_uri": "https://localhost:8080/"
        },
        "id": "M_zPraBRhipp",
        "outputId": "aca395df-f305-412b-c8f0-ad97ed614b3c"
      },
      "source": [
        "# Informações úteis\n",
        "\n",
        "df_Estados.info()"
      ],
      "execution_count": null,
      "outputs": [
        {
          "output_type": "stream",
          "text": [
            "<class 'pandas.core.frame.DataFrame'>\n",
            "RangeIndex: 223 entries, 0 to 222\n",
            "Data columns (total 3 columns):\n",
            " #   Column     Non-Null Count  Dtype \n",
            "---  ------     --------------  ----- \n",
            " 0   ID_Estado  223 non-null    int64 \n",
            " 1   ID_Pais    223 non-null    int64 \n",
            " 2   Estado     223 non-null    object\n",
            "dtypes: int64(2), object(1)\n",
            "memory usage: 5.4+ KB\n"
          ],
          "name": "stdout"
        }
      ]
    },
    {
      "cell_type": "code",
      "metadata": {
        "colab": {
          "base_uri": "https://localhost:8080/"
        },
        "id": "1Ok_Q4lfhimw",
        "outputId": "416e4bcd-02a8-4942-a7b8-21fa89bbb7a1"
      },
      "source": [
        "# Quinta folha do excel\n",
        "\n",
        "df_Cidades.sample(5)"
      ],
      "execution_count": null,
      "outputs": [
        {
          "output_type": "execute_result",
          "data": {
            "text/html": [
              "<div>\n",
              "<style scoped>\n",
              "    .dataframe tbody tr th:only-of-type {\n",
              "        vertical-align: middle;\n",
              "    }\n",
              "\n",
              "    .dataframe tbody tr th {\n",
              "        vertical-align: top;\n",
              "    }\n",
              "\n",
              "    .dataframe thead th {\n",
              "        text-align: right;\n",
              "    }\n",
              "</style>\n",
              "<table border=\"1\" class=\"dataframe\">\n",
              "  <thead>\n",
              "    <tr style=\"text-align: right;\">\n",
              "      <th></th>\n",
              "      <th>ID_Cidade</th>\n",
              "      <th>ID_Estado</th>\n",
              "      <th>Cidade</th>\n",
              "    </tr>\n",
              "  </thead>\n",
              "  <tbody>\n",
              "    <tr>\n",
              "      <th>312</th>\n",
              "      <td>313</td>\n",
              "      <td>195</td>\n",
              "      <td>San Bernardo</td>\n",
              "    </tr>\n",
              "    <tr>\n",
              "      <th>483</th>\n",
              "      <td>484</td>\n",
              "      <td>138</td>\n",
              "      <td>Jiutepec</td>\n",
              "    </tr>\n",
              "    <tr>\n",
              "      <th>518</th>\n",
              "      <td>519</td>\n",
              "      <td>201</td>\n",
              "      <td>Culiacán</td>\n",
              "    </tr>\n",
              "    <tr>\n",
              "      <th>218</th>\n",
              "      <td>219</td>\n",
              "      <td>176</td>\n",
              "      <td>Boa Vista</td>\n",
              "    </tr>\n",
              "    <tr>\n",
              "      <th>405</th>\n",
              "      <td>406</td>\n",
              "      <td>74</td>\n",
              "      <td>Escuintla</td>\n",
              "    </tr>\n",
              "  </tbody>\n",
              "</table>\n",
              "</div>"
            ],
            "text/plain": [
              "     ID_Cidade  ID_Estado        Cidade\n",
              "312        313        195  San Bernardo\n",
              "483        484        138      Jiutepec\n",
              "518        519        201      Culiacán\n",
              "218        219        176     Boa Vista\n",
              "405        406         74     Escuintla"
            ]
          },
          "metadata": {
            "tags": []
          },
          "execution_count": 11
        }
      ]
    },
    {
      "cell_type": "code",
      "metadata": {
        "colab": {
          "base_uri": "https://localhost:8080/"
        },
        "id": "KjrCtdAvhije",
        "outputId": "c0c6b221-d82c-4a8c-cc4b-40381ab2750b"
      },
      "source": [
        "# Informações úteis\n",
        "\n",
        "df_Cidades.info()"
      ],
      "execution_count": null,
      "outputs": [
        {
          "output_type": "stream",
          "text": [
            "<class 'pandas.core.frame.DataFrame'>\n",
            "RangeIndex: 641 entries, 0 to 640\n",
            "Data columns (total 3 columns):\n",
            " #   Column     Non-Null Count  Dtype \n",
            "---  ------     --------------  ----- \n",
            " 0   ID_Cidade  641 non-null    int64 \n",
            " 1   ID_Estado  641 non-null    int64 \n",
            " 2   Cidade     641 non-null    object\n",
            "dtypes: int64(2), object(1)\n",
            "memory usage: 15.1+ KB\n"
          ],
          "name": "stdout"
        }
      ]
    },
    {
      "cell_type": "code",
      "metadata": {
        "colab": {
          "base_uri": "https://localhost:8080/"
        },
        "id": "Zb9ie5H2hihJ",
        "outputId": "24886e8c-b7d0-4f18-d702-b359faca580c"
      },
      "source": [
        "# Sexta folha do excel\n",
        "\n",
        "df_Lojas.sample(5)"
      ],
      "execution_count": null,
      "outputs": [
        {
          "output_type": "execute_result",
          "data": {
            "text/html": [
              "<div>\n",
              "<style scoped>\n",
              "    .dataframe tbody tr th:only-of-type {\n",
              "        vertical-align: middle;\n",
              "    }\n",
              "\n",
              "    .dataframe tbody tr th {\n",
              "        vertical-align: top;\n",
              "    }\n",
              "\n",
              "    .dataframe thead th {\n",
              "        text-align: right;\n",
              "    }\n",
              "</style>\n",
              "<table border=\"1\" class=\"dataframe\">\n",
              "  <thead>\n",
              "    <tr style=\"text-align: right;\">\n",
              "      <th></th>\n",
              "      <th>ID_Loja</th>\n",
              "      <th>ID_Cidade</th>\n",
              "      <th>Nome_Loja</th>\n",
              "      <th>Data_Inauguracao</th>\n",
              "    </tr>\n",
              "  </thead>\n",
              "  <tbody>\n",
              "    <tr>\n",
              "      <th>633</th>\n",
              "      <td>634</td>\n",
              "      <td>111</td>\n",
              "      <td>Várzea Grande</td>\n",
              "      <td>43446.0</td>\n",
              "    </tr>\n",
              "    <tr>\n",
              "      <th>174</th>\n",
              "      <td>175</td>\n",
              "      <td>266</td>\n",
              "      <td>José Bonifácio</td>\n",
              "      <td>42207.0</td>\n",
              "    </tr>\n",
              "    <tr>\n",
              "      <th>520</th>\n",
              "      <td>521</td>\n",
              "      <td>217</td>\n",
              "      <td>Ji-Paraná</td>\n",
              "      <td>42985.0</td>\n",
              "    </tr>\n",
              "    <tr>\n",
              "      <th>196</th>\n",
              "      <td>197</td>\n",
              "      <td>144</td>\n",
              "      <td>Colombo</td>\n",
              "      <td>42254.0</td>\n",
              "    </tr>\n",
              "    <tr>\n",
              "      <th>510</th>\n",
              "      <td>511</td>\n",
              "      <td>37</td>\n",
              "      <td>Cochabamba</td>\n",
              "      <td>42946.0</td>\n",
              "    </tr>\n",
              "  </tbody>\n",
              "</table>\n",
              "</div>"
            ],
            "text/plain": [
              "     ID_Loja  ID_Cidade       Nome_Loja  Data_Inauguracao\n",
              "633      634        111   Várzea Grande           43446.0\n",
              "174      175        266  José Bonifácio           42207.0\n",
              "520      521        217       Ji-Paraná           42985.0\n",
              "196      197        144         Colombo           42254.0\n",
              "510      511         37      Cochabamba           42946.0"
            ]
          },
          "metadata": {
            "tags": []
          },
          "execution_count": 13
        }
      ]
    },
    {
      "cell_type": "code",
      "metadata": {
        "colab": {
          "base_uri": "https://localhost:8080/"
        },
        "id": "QHzg6JQJhidG",
        "outputId": "5c2b02c7-715f-4c07-a3b1-cbfa375b870a"
      },
      "source": [
        "# Informação útil sobre esta ava\n",
        "\n",
        "df_Lojas.info()"
      ],
      "execution_count": null,
      "outputs": [
        {
          "output_type": "stream",
          "text": [
            "<class 'pandas.core.frame.DataFrame'>\n",
            "RangeIndex: 641 entries, 0 to 640\n",
            "Data columns (total 4 columns):\n",
            " #   Column            Non-Null Count  Dtype  \n",
            "---  ------            --------------  -----  \n",
            " 0   ID_Loja           641 non-null    int64  \n",
            " 1   ID_Cidade         641 non-null    int64  \n",
            " 2   Nome_Loja         641 non-null    object \n",
            " 3   Data_Inauguracao  641 non-null    float64\n",
            "dtypes: float64(1), int64(2), object(1)\n",
            "memory usage: 20.2+ KB\n"
          ],
          "name": "stdout"
        }
      ]
    },
    {
      "cell_type": "code",
      "metadata": {
        "colab": {
          "base_uri": "https://localhost:8080/"
        },
        "id": "7niS4PgKhiaB",
        "outputId": "ef0304d9-d8e8-4bc6-b4e8-bfd1f1e40c28"
      },
      "source": [
        "# Sétima folha do excel\n",
        "\n",
        "df_Segmentos"
      ],
      "execution_count": null,
      "outputs": [
        {
          "output_type": "execute_result",
          "data": {
            "text/html": [
              "<div>\n",
              "<style scoped>\n",
              "    .dataframe tbody tr th:only-of-type {\n",
              "        vertical-align: middle;\n",
              "    }\n",
              "\n",
              "    .dataframe tbody tr th {\n",
              "        vertical-align: top;\n",
              "    }\n",
              "\n",
              "    .dataframe thead th {\n",
              "        text-align: right;\n",
              "    }\n",
              "</style>\n",
              "<table border=\"1\" class=\"dataframe\">\n",
              "  <thead>\n",
              "    <tr style=\"text-align: right;\">\n",
              "      <th></th>\n",
              "      <th>ID_Segmento</th>\n",
              "      <th>Segmento</th>\n",
              "    </tr>\n",
              "  </thead>\n",
              "  <tbody>\n",
              "    <tr>\n",
              "      <th>0</th>\n",
              "      <td>1</td>\n",
              "      <td>Grande Empresa</td>\n",
              "    </tr>\n",
              "    <tr>\n",
              "      <th>1</th>\n",
              "      <td>2</td>\n",
              "      <td>Pequenas e Medias Empresas</td>\n",
              "    </tr>\n",
              "    <tr>\n",
              "      <th>2</th>\n",
              "      <td>3</td>\n",
              "      <td>Varejo</td>\n",
              "    </tr>\n",
              "  </tbody>\n",
              "</table>\n",
              "</div>"
            ],
            "text/plain": [
              "   ID_Segmento                    Segmento\n",
              "0            1              Grande Empresa\n",
              "1            2  Pequenas e Medias Empresas\n",
              "2            3                      Varejo"
            ]
          },
          "metadata": {
            "tags": []
          },
          "execution_count": 15
        }
      ]
    },
    {
      "cell_type": "code",
      "metadata": {
        "id": "vuudoc5cUJrj"
      },
      "source": [
        "# Exportando para um arquivo excel\n",
        "\n",
        "df_Segmentos.to_excel(\"Segmentos1.xlsx\", index=False)"
      ],
      "execution_count": null,
      "outputs": []
    },
    {
      "cell_type": "code",
      "metadata": {
        "colab": {
          "base_uri": "https://localhost:8080/"
        },
        "id": "lUUKybIrhiXY",
        "outputId": "2ac6792a-9859-416d-dce8-d73f100b300b"
      },
      "source": [
        "# Oitava folha do excel\n",
        "\n",
        "df_Clientes.sample(5)"
      ],
      "execution_count": null,
      "outputs": [
        {
          "output_type": "execute_result",
          "data": {
            "text/html": [
              "<div>\n",
              "<style scoped>\n",
              "    .dataframe tbody tr th:only-of-type {\n",
              "        vertical-align: middle;\n",
              "    }\n",
              "\n",
              "    .dataframe tbody tr th {\n",
              "        vertical-align: top;\n",
              "    }\n",
              "\n",
              "    .dataframe thead th {\n",
              "        text-align: right;\n",
              "    }\n",
              "</style>\n",
              "<table border=\"1\" class=\"dataframe\">\n",
              "  <thead>\n",
              "    <tr style=\"text-align: right;\">\n",
              "      <th></th>\n",
              "      <th>ID_Cliente</th>\n",
              "      <th>ID_Segmento</th>\n",
              "      <th>Nome_Cliente</th>\n",
              "      <th>Data_Cadastro</th>\n",
              "    </tr>\n",
              "  </thead>\n",
              "  <tbody>\n",
              "    <tr>\n",
              "      <th>511</th>\n",
              "      <td>512</td>\n",
              "      <td>3</td>\n",
              "      <td>Laura Ferreira</td>\n",
              "      <td>42363.0</td>\n",
              "    </tr>\n",
              "    <tr>\n",
              "      <th>128</th>\n",
              "      <td>129</td>\n",
              "      <td>3</td>\n",
              "      <td>Eduardo Cardoso</td>\n",
              "      <td>42123.0</td>\n",
              "    </tr>\n",
              "    <tr>\n",
              "      <th>268</th>\n",
              "      <td>269</td>\n",
              "      <td>3</td>\n",
              "      <td>Evelyn Correia</td>\n",
              "      <td>42204.0</td>\n",
              "    </tr>\n",
              "    <tr>\n",
              "      <th>77</th>\n",
              "      <td>78</td>\n",
              "      <td>2</td>\n",
              "      <td>Marisa Cunha</td>\n",
              "      <td>42086.0</td>\n",
              "    </tr>\n",
              "    <tr>\n",
              "      <th>266</th>\n",
              "      <td>267</td>\n",
              "      <td>3</td>\n",
              "      <td>Vinicius Santos</td>\n",
              "      <td>42201.0</td>\n",
              "    </tr>\n",
              "  </tbody>\n",
              "</table>\n",
              "</div>"
            ],
            "text/plain": [
              "     ID_Cliente  ID_Segmento     Nome_Cliente  Data_Cadastro\n",
              "511         512            3   Laura Ferreira        42363.0\n",
              "128         129            3  Eduardo Cardoso        42123.0\n",
              "268         269            3   Evelyn Correia        42204.0\n",
              "77           78            2     Marisa Cunha        42086.0\n",
              "266         267            3  Vinicius Santos        42201.0"
            ]
          },
          "metadata": {
            "tags": []
          },
          "execution_count": 17
        }
      ]
    },
    {
      "cell_type": "code",
      "metadata": {
        "colab": {
          "base_uri": "https://localhost:8080/"
        },
        "id": "2zTTmfDXhiTl",
        "outputId": "8c9798a1-9128-4334-fdb4-21220852298a"
      },
      "source": [
        "# Informações úteis \n",
        "\n",
        "df_Clientes.info()"
      ],
      "execution_count": null,
      "outputs": [
        {
          "output_type": "stream",
          "text": [
            "<class 'pandas.core.frame.DataFrame'>\n",
            "RangeIndex: 794 entries, 0 to 793\n",
            "Data columns (total 4 columns):\n",
            " #   Column         Non-Null Count  Dtype  \n",
            "---  ------         --------------  -----  \n",
            " 0   ID_Cliente     794 non-null    int64  \n",
            " 1   ID_Segmento    794 non-null    int64  \n",
            " 2   Nome_Cliente   794 non-null    object \n",
            " 3   Data_Cadastro  794 non-null    float64\n",
            "dtypes: float64(1), int64(2), object(1)\n",
            "memory usage: 24.9+ KB\n"
          ],
          "name": "stdout"
        }
      ]
    },
    {
      "cell_type": "code",
      "metadata": {
        "colab": {
          "base_uri": "https://localhost:8080/"
        },
        "id": "nbsqvcZ8hiQt",
        "outputId": "5b0b6aee-8bc9-4ca1-a089-205b7a5b5a6d"
      },
      "source": [
        "# Nona folha de excel\n",
        "\n",
        "df_Categorias.head(5)"
      ],
      "execution_count": null,
      "outputs": [
        {
          "output_type": "execute_result",
          "data": {
            "text/html": [
              "<div>\n",
              "<style scoped>\n",
              "    .dataframe tbody tr th:only-of-type {\n",
              "        vertical-align: middle;\n",
              "    }\n",
              "\n",
              "    .dataframe tbody tr th {\n",
              "        vertical-align: top;\n",
              "    }\n",
              "\n",
              "    .dataframe thead th {\n",
              "        text-align: right;\n",
              "    }\n",
              "</style>\n",
              "<table border=\"1\" class=\"dataframe\">\n",
              "  <thead>\n",
              "    <tr style=\"text-align: right;\">\n",
              "      <th></th>\n",
              "      <th>ID_Categoria</th>\n",
              "      <th>Categoria</th>\n",
              "      <th>ID_Categoria_Pai</th>\n",
              "    </tr>\n",
              "  </thead>\n",
              "  <tbody>\n",
              "    <tr>\n",
              "      <th>0</th>\n",
              "      <td>1</td>\n",
              "      <td>Material de escritório</td>\n",
              "      <td>NaN</td>\n",
              "    </tr>\n",
              "    <tr>\n",
              "      <th>1</th>\n",
              "      <td>2</td>\n",
              "      <td>Móveis</td>\n",
              "      <td>NaN</td>\n",
              "    </tr>\n",
              "    <tr>\n",
              "      <th>2</th>\n",
              "      <td>3</td>\n",
              "      <td>Tecnologia</td>\n",
              "      <td>NaN</td>\n",
              "    </tr>\n",
              "    <tr>\n",
              "      <th>3</th>\n",
              "      <td>4</td>\n",
              "      <td>Armazenamento</td>\n",
              "      <td>1.0</td>\n",
              "    </tr>\n",
              "    <tr>\n",
              "      <th>4</th>\n",
              "      <td>5</td>\n",
              "      <td>Arte</td>\n",
              "      <td>1.0</td>\n",
              "    </tr>\n",
              "  </tbody>\n",
              "</table>\n",
              "</div>"
            ],
            "text/plain": [
              "   ID_Categoria               Categoria  ID_Categoria_Pai\n",
              "0             1  Material de escritório               NaN\n",
              "1             2                  Móveis               NaN\n",
              "2             3              Tecnologia               NaN\n",
              "3             4           Armazenamento               1.0\n",
              "4             5                    Arte               1.0"
            ]
          },
          "metadata": {
            "tags": []
          },
          "execution_count": 19
        }
      ]
    },
    {
      "cell_type": "code",
      "metadata": {
        "colab": {
          "base_uri": "https://localhost:8080/"
        },
        "id": "OX5fR7ykhiOG",
        "outputId": "5cc2a147-91a7-4ff2-f059-d7dc0fd0eff3"
      },
      "source": [
        "# Método .info() para ver as informações úteis\n",
        "# Na seguinte etapa trataremos esta variável\n",
        "\n",
        "df_Categorias.info()"
      ],
      "execution_count": null,
      "outputs": [
        {
          "output_type": "stream",
          "text": [
            "<class 'pandas.core.frame.DataFrame'>\n",
            "RangeIndex: 20 entries, 0 to 19\n",
            "Data columns (total 3 columns):\n",
            " #   Column            Non-Null Count  Dtype  \n",
            "---  ------            --------------  -----  \n",
            " 0   ID_Categoria      20 non-null     int64  \n",
            " 1   Categoria         20 non-null     object \n",
            " 2   ID_Categoria_Pai  17 non-null     float64\n",
            "dtypes: float64(1), int64(1), object(1)\n",
            "memory usage: 608.0+ bytes\n"
          ],
          "name": "stdout"
        }
      ]
    },
    {
      "cell_type": "code",
      "metadata": {
        "colab": {
          "base_uri": "https://localhost:8080/"
        },
        "id": "6SlfTTKohiL4",
        "outputId": "0ed5090b-176a-43c3-af5f-a0bfc7a7bc92"
      },
      "source": [
        "# Décima folha do excel\n",
        "\n",
        "df_Produtos.sample(5)"
      ],
      "execution_count": null,
      "outputs": [
        {
          "output_type": "execute_result",
          "data": {
            "text/html": [
              "<div>\n",
              "<style scoped>\n",
              "    .dataframe tbody tr th:only-of-type {\n",
              "        vertical-align: middle;\n",
              "    }\n",
              "\n",
              "    .dataframe tbody tr th {\n",
              "        vertical-align: top;\n",
              "    }\n",
              "\n",
              "    .dataframe thead th {\n",
              "        text-align: right;\n",
              "    }\n",
              "</style>\n",
              "<table border=\"1\" class=\"dataframe\">\n",
              "  <thead>\n",
              "    <tr style=\"text-align: right;\">\n",
              "      <th></th>\n",
              "      <th>ID_Produto</th>\n",
              "      <th>Produto</th>\n",
              "    </tr>\n",
              "  </thead>\n",
              "  <tbody>\n",
              "    <tr>\n",
              "      <th>15</th>\n",
              "      <td>16</td>\n",
              "      <td>Caixa</td>\n",
              "    </tr>\n",
              "    <tr>\n",
              "      <th>9</th>\n",
              "      <td>10</td>\n",
              "      <td>Bloco de desenho</td>\n",
              "    </tr>\n",
              "    <tr>\n",
              "      <th>64</th>\n",
              "      <td>65</td>\n",
              "      <td>Mesa de conferência</td>\n",
              "    </tr>\n",
              "    <tr>\n",
              "      <th>70</th>\n",
              "      <td>71</td>\n",
              "      <td>Moedor de café</td>\n",
              "    </tr>\n",
              "    <tr>\n",
              "      <th>67</th>\n",
              "      <td>68</td>\n",
              "      <td>Mesa para computador</td>\n",
              "    </tr>\n",
              "  </tbody>\n",
              "</table>\n",
              "</div>"
            ],
            "text/plain": [
              "    ID_Produto               Produto\n",
              "15          16               Caixa  \n",
              "9           10      Bloco de desenho\n",
              "64          65   Mesa de conferência\n",
              "70          71        Moedor de café\n",
              "67          68  Mesa para computador"
            ]
          },
          "metadata": {
            "tags": []
          },
          "execution_count": 21
        }
      ]
    },
    {
      "cell_type": "code",
      "metadata": {
        "colab": {
          "base_uri": "https://localhost:8080/"
        },
        "id": "hfDPAhjhhiJJ",
        "outputId": "cab04433-6f17-4f2f-9b2d-441baa96fab6"
      },
      "source": [
        "# Informações sobre esta ava\n",
        "\n",
        "df_Produtos.info()"
      ],
      "execution_count": null,
      "outputs": [
        {
          "output_type": "stream",
          "text": [
            "<class 'pandas.core.frame.DataFrame'>\n",
            "RangeIndex: 101 entries, 0 to 100\n",
            "Data columns (total 2 columns):\n",
            " #   Column      Non-Null Count  Dtype \n",
            "---  ------      --------------  ----- \n",
            " 0   ID_Produto  101 non-null    int64 \n",
            " 1   Produto     101 non-null    object\n",
            "dtypes: int64(1), object(1)\n",
            "memory usage: 1.7+ KB\n"
          ],
          "name": "stdout"
        }
      ]
    },
    {
      "cell_type": "code",
      "metadata": {
        "colab": {
          "base_uri": "https://localhost:8080/"
        },
        "id": "CSaNakcphiFU",
        "outputId": "36a3081b-138d-49d9-d1f5-50145d85d1cf"
      },
      "source": [
        "# Décima primeira folha do excel\n",
        "\n",
        "df_Marcas.sample(5)"
      ],
      "execution_count": null,
      "outputs": [
        {
          "output_type": "execute_result",
          "data": {
            "text/html": [
              "<div>\n",
              "<style scoped>\n",
              "    .dataframe tbody tr th:only-of-type {\n",
              "        vertical-align: middle;\n",
              "    }\n",
              "\n",
              "    .dataframe tbody tr th {\n",
              "        vertical-align: top;\n",
              "    }\n",
              "\n",
              "    .dataframe thead th {\n",
              "        text-align: right;\n",
              "    }\n",
              "</style>\n",
              "<table border=\"1\" class=\"dataframe\">\n",
              "  <thead>\n",
              "    <tr style=\"text-align: right;\">\n",
              "      <th></th>\n",
              "      <th>ID_Marca</th>\n",
              "      <th>Marca</th>\n",
              "    </tr>\n",
              "  </thead>\n",
              "  <tbody>\n",
              "    <tr>\n",
              "      <th>1</th>\n",
              "      <td>2</td>\n",
              "      <td>Accos</td>\n",
              "    </tr>\n",
              "    <tr>\n",
              "      <th>25</th>\n",
              "      <td>26</td>\n",
              "      <td>Eldon</td>\n",
              "    </tr>\n",
              "    <tr>\n",
              "      <th>60</th>\n",
              "      <td>61</td>\n",
              "      <td>SAFCO</td>\n",
              "    </tr>\n",
              "    <tr>\n",
              "      <th>42</th>\n",
              "      <td>43</td>\n",
              "      <td>KitchenAid</td>\n",
              "    </tr>\n",
              "    <tr>\n",
              "      <th>44</th>\n",
              "      <td>45</td>\n",
              "      <td>Konica</td>\n",
              "    </tr>\n",
              "  </tbody>\n",
              "</table>\n",
              "</div>"
            ],
            "text/plain": [
              "    ID_Marca       Marca\n",
              "1          2       Accos\n",
              "25        26       Eldon\n",
              "60        61       SAFCO\n",
              "42        43  KitchenAid\n",
              "44        45      Konica"
            ]
          },
          "metadata": {
            "tags": []
          },
          "execution_count": 23
        }
      ]
    },
    {
      "cell_type": "code",
      "metadata": {
        "colab": {
          "base_uri": "https://localhost:8080/"
        },
        "id": "z58msqvzhiBx",
        "outputId": "50296e93-0109-45c8-f5d6-653b799e2e2a"
      },
      "source": [
        "# Observamos as características e informações úteis com o método .info()\n",
        "\n",
        "df_Marcas.info()"
      ],
      "execution_count": null,
      "outputs": [
        {
          "output_type": "stream",
          "text": [
            "<class 'pandas.core.frame.DataFrame'>\n",
            "RangeIndex: 76 entries, 0 to 75\n",
            "Data columns (total 2 columns):\n",
            " #   Column    Non-Null Count  Dtype \n",
            "---  ------    --------------  ----- \n",
            " 0   ID_Marca  76 non-null     int64 \n",
            " 1   Marca     76 non-null     object\n",
            "dtypes: int64(1), object(1)\n",
            "memory usage: 1.3+ KB\n"
          ],
          "name": "stdout"
        }
      ]
    },
    {
      "cell_type": "code",
      "metadata": {
        "colab": {
          "base_uri": "https://localhost:8080/"
        },
        "id": "GOIgkm-Ihh_E",
        "outputId": "f6d3f220-c81d-4d63-9937-336c52c4a8f1"
      },
      "source": [
        "# Décima segunda folha do excel\n",
        "\n",
        "df_Paises.sample(5)"
      ],
      "execution_count": null,
      "outputs": [
        {
          "output_type": "execute_result",
          "data": {
            "text/html": [
              "<div>\n",
              "<style scoped>\n",
              "    .dataframe tbody tr th:only-of-type {\n",
              "        vertical-align: middle;\n",
              "    }\n",
              "\n",
              "    .dataframe tbody tr th {\n",
              "        vertical-align: top;\n",
              "    }\n",
              "\n",
              "    .dataframe thead th {\n",
              "        text-align: right;\n",
              "    }\n",
              "</style>\n",
              "<table border=\"1\" class=\"dataframe\">\n",
              "  <thead>\n",
              "    <tr style=\"text-align: right;\">\n",
              "      <th></th>\n",
              "      <th>ID_Pais</th>\n",
              "      <th>ID_Regiao</th>\n",
              "      <th>País</th>\n",
              "    </tr>\n",
              "  </thead>\n",
              "  <tbody>\n",
              "    <tr>\n",
              "      <th>18</th>\n",
              "      <td>19</td>\n",
              "      <td>4</td>\n",
              "      <td>Paraguai</td>\n",
              "    </tr>\n",
              "    <tr>\n",
              "      <th>2</th>\n",
              "      <td>3</td>\n",
              "      <td>4</td>\n",
              "      <td>Bolívia</td>\n",
              "    </tr>\n",
              "    <tr>\n",
              "      <th>17</th>\n",
              "      <td>18</td>\n",
              "      <td>2</td>\n",
              "      <td>Panamá</td>\n",
              "    </tr>\n",
              "    <tr>\n",
              "      <th>12</th>\n",
              "      <td>13</td>\n",
              "      <td>2</td>\n",
              "      <td>Honduras</td>\n",
              "    </tr>\n",
              "    <tr>\n",
              "      <th>20</th>\n",
              "      <td>21</td>\n",
              "      <td>1</td>\n",
              "      <td>República Dominicana</td>\n",
              "    </tr>\n",
              "  </tbody>\n",
              "</table>\n",
              "</div>"
            ],
            "text/plain": [
              "    ID_Pais  ID_Regiao                  País\n",
              "18       19          4              Paraguai\n",
              "2         3          4               Bolívia\n",
              "17       18          2                Panamá\n",
              "12       13          2              Honduras\n",
              "20       21          1  República Dominicana"
            ]
          },
          "metadata": {
            "tags": []
          },
          "execution_count": 25
        }
      ]
    },
    {
      "cell_type": "code",
      "metadata": {
        "colab": {
          "base_uri": "https://localhost:8080/"
        },
        "id": "sJuXkM2hhh85",
        "outputId": "8c6ac704-856f-4364-8807-18f89d65d273"
      },
      "source": [
        "# Observamos as informações úteis\n",
        "\n",
        "df_Paises.info()"
      ],
      "execution_count": null,
      "outputs": [
        {
          "output_type": "stream",
          "text": [
            "<class 'pandas.core.frame.DataFrame'>\n",
            "RangeIndex: 24 entries, 0 to 23\n",
            "Data columns (total 3 columns):\n",
            " #   Column     Non-Null Count  Dtype \n",
            "---  ------     --------------  ----- \n",
            " 0   ID_Pais    24 non-null     int64 \n",
            " 1   ID_Regiao  24 non-null     int64 \n",
            " 2   País       24 non-null     object\n",
            "dtypes: int64(2), object(1)\n",
            "memory usage: 704.0+ bytes\n"
          ],
          "name": "stdout"
        }
      ]
    },
    {
      "cell_type": "code",
      "metadata": {
        "colab": {
          "base_uri": "https://localhost:8080/"
        },
        "id": "3Babl6l3hh6w",
        "outputId": "916d1bfb-ebe2-4c0d-e362-69e5c7b0f96f"
      },
      "source": [
        "# Décima terceira folha do excel \n",
        "\n",
        "df_Meta_Pais.sample(5)"
      ],
      "execution_count": null,
      "outputs": [
        {
          "output_type": "execute_result",
          "data": {
            "text/html": [
              "<div>\n",
              "<style scoped>\n",
              "    .dataframe tbody tr th:only-of-type {\n",
              "        vertical-align: middle;\n",
              "    }\n",
              "\n",
              "    .dataframe tbody tr th {\n",
              "        vertical-align: top;\n",
              "    }\n",
              "\n",
              "    .dataframe thead th {\n",
              "        text-align: right;\n",
              "    }\n",
              "</style>\n",
              "<table border=\"1\" class=\"dataframe\">\n",
              "  <thead>\n",
              "    <tr style=\"text-align: right;\">\n",
              "      <th></th>\n",
              "      <th>ID_Pais</th>\n",
              "      <th>País</th>\n",
              "      <th>Meta_Anual</th>\n",
              "    </tr>\n",
              "  </thead>\n",
              "  <tbody>\n",
              "    <tr>\n",
              "      <th>15</th>\n",
              "      <td>16</td>\n",
              "      <td>México</td>\n",
              "      <td>1115000</td>\n",
              "    </tr>\n",
              "    <tr>\n",
              "      <th>11</th>\n",
              "      <td>12</td>\n",
              "      <td>Haiti</td>\n",
              "      <td>19000</td>\n",
              "    </tr>\n",
              "    <tr>\n",
              "      <th>17</th>\n",
              "      <td>18</td>\n",
              "      <td>Panamá</td>\n",
              "      <td>100000</td>\n",
              "    </tr>\n",
              "    <tr>\n",
              "      <th>23</th>\n",
              "      <td>24</td>\n",
              "      <td>Venezuela</td>\n",
              "      <td>78000</td>\n",
              "    </tr>\n",
              "    <tr>\n",
              "      <th>0</th>\n",
              "      <td>1</td>\n",
              "      <td>Argentina</td>\n",
              "      <td>70000</td>\n",
              "    </tr>\n",
              "  </tbody>\n",
              "</table>\n",
              "</div>"
            ],
            "text/plain": [
              "    ID_Pais       País  Meta_Anual\n",
              "15       16     México     1115000\n",
              "11       12      Haiti       19000\n",
              "17       18     Panamá      100000\n",
              "23       24  Venezuela       78000\n",
              "0         1  Argentina       70000"
            ]
          },
          "metadata": {
            "tags": []
          },
          "execution_count": 27
        }
      ]
    },
    {
      "cell_type": "code",
      "metadata": {
        "colab": {
          "base_uri": "https://localhost:8080/"
        },
        "id": "pmG03luhhh2Y",
        "outputId": "41a68710-6e7b-4b09-af7a-ff9684725537"
      },
      "source": [
        "# Informações sobre esta folha \n",
        "\n",
        "df_Meta_Pais.info()"
      ],
      "execution_count": null,
      "outputs": [
        {
          "output_type": "stream",
          "text": [
            "<class 'pandas.core.frame.DataFrame'>\n",
            "RangeIndex: 24 entries, 0 to 23\n",
            "Data columns (total 3 columns):\n",
            " #   Column      Non-Null Count  Dtype \n",
            "---  ------      --------------  ----- \n",
            " 0   ID_Pais     24 non-null     int64 \n",
            " 1   País        24 non-null     object\n",
            " 2   Meta_Anual  24 non-null     int64 \n",
            "dtypes: int64(2), object(1)\n",
            "memory usage: 704.0+ bytes\n"
          ],
          "name": "stdout"
        }
      ]
    },
    {
      "cell_type": "code",
      "metadata": {
        "colab": {
          "base_uri": "https://localhost:8080/"
        },
        "id": "WuNVlcKohhz0",
        "outputId": "56289224-b6e0-4389-a931-c1fa38562e86"
      },
      "source": [
        "# Décima quarta folha do excel \n",
        "\n",
        "df_Itens.sample(5)"
      ],
      "execution_count": null,
      "outputs": [
        {
          "output_type": "execute_result",
          "data": {
            "text/html": [
              "<div>\n",
              "<style scoped>\n",
              "    .dataframe tbody tr th:only-of-type {\n",
              "        vertical-align: middle;\n",
              "    }\n",
              "\n",
              "    .dataframe tbody tr th {\n",
              "        vertical-align: top;\n",
              "    }\n",
              "\n",
              "    .dataframe thead th {\n",
              "        text-align: right;\n",
              "    }\n",
              "</style>\n",
              "<table border=\"1\" class=\"dataframe\">\n",
              "  <thead>\n",
              "    <tr style=\"text-align: right;\">\n",
              "      <th></th>\n",
              "      <th>ID_Item</th>\n",
              "      <th>ID_Produto</th>\n",
              "      <th>ID_Marca</th>\n",
              "      <th>ID_Categoria</th>\n",
              "      <th>Descricao</th>\n",
              "    </tr>\n",
              "  </thead>\n",
              "  <tbody>\n",
              "    <tr>\n",
              "      <th>1760</th>\n",
              "      <td>1761</td>\n",
              "      <td>56</td>\n",
              "      <td>71</td>\n",
              "      <td>19</td>\n",
              "      <td>Durável</td>\n",
              "    </tr>\n",
              "    <tr>\n",
              "      <th>1737</th>\n",
              "      <td>1738</td>\n",
              "      <td>10</td>\n",
              "      <td>70</td>\n",
              "      <td>5</td>\n",
              "      <td>Azul</td>\n",
              "    </tr>\n",
              "    <tr>\n",
              "      <th>1313</th>\n",
              "      <td>1314</td>\n",
              "      <td>89</td>\n",
              "      <td>51</td>\n",
              "      <td>20</td>\n",
              "      <td>Tamanho real</td>\n",
              "    </tr>\n",
              "    <tr>\n",
              "      <th>424</th>\n",
              "      <td>425</td>\n",
              "      <td>48</td>\n",
              "      <td>17</td>\n",
              "      <td>18</td>\n",
              "      <td>Colorida</td>\n",
              "    </tr>\n",
              "    <tr>\n",
              "      <th>174</th>\n",
              "      <td>175</td>\n",
              "      <td>33</td>\n",
              "      <td>7</td>\n",
              "      <td>10</td>\n",
              "      <td>Reciclado</td>\n",
              "    </tr>\n",
              "  </tbody>\n",
              "</table>\n",
              "</div>"
            ],
            "text/plain": [
              "      ID_Item  ID_Produto  ID_Marca  ID_Categoria      Descricao\n",
              "1760     1761          56        71            19        Durável\n",
              "1737     1738          10        70             5           Azul\n",
              "1313     1314          89        51            20   Tamanho real\n",
              "424       425          48        17            18       Colorida\n",
              "174       175          33         7            10      Reciclado"
            ]
          },
          "metadata": {
            "tags": []
          },
          "execution_count": 29
        }
      ]
    },
    {
      "cell_type": "code",
      "metadata": {
        "colab": {
          "base_uri": "https://localhost:8080/"
        },
        "id": "6yH3Z1xthhvu",
        "outputId": "929a9a59-defc-43e5-e82f-0a2f68362652"
      },
      "source": [
        "# Informações sobre este DataFrame\n",
        "\n",
        "df_Itens.info()"
      ],
      "execution_count": null,
      "outputs": [
        {
          "output_type": "stream",
          "text": [
            "<class 'pandas.core.frame.DataFrame'>\n",
            "RangeIndex: 1909 entries, 0 to 1908\n",
            "Data columns (total 5 columns):\n",
            " #   Column        Non-Null Count  Dtype \n",
            "---  ------        --------------  ----- \n",
            " 0   ID_Item       1909 non-null   int64 \n",
            " 1   ID_Produto    1909 non-null   int64 \n",
            " 2   ID_Marca      1909 non-null   int64 \n",
            " 3   ID_Categoria  1909 non-null   int64 \n",
            " 4   Descricao     1909 non-null   object\n",
            "dtypes: int64(4), object(1)\n",
            "memory usage: 74.7+ KB\n"
          ],
          "name": "stdout"
        }
      ]
    },
    {
      "cell_type": "code",
      "metadata": {
        "colab": {
          "base_uri": "https://localhost:8080/"
        },
        "id": "V4LshljThhsC",
        "outputId": "90e9a198-bbb3-4744-ca97-4c1411e51a7e"
      },
      "source": [
        "# Décima quinta folha do excel\n",
        "\n",
        "df_Pedidos.sample(5)"
      ],
      "execution_count": null,
      "outputs": [
        {
          "output_type": "execute_result",
          "data": {
            "text/html": [
              "<div>\n",
              "<style scoped>\n",
              "    .dataframe tbody tr th:only-of-type {\n",
              "        vertical-align: middle;\n",
              "    }\n",
              "\n",
              "    .dataframe tbody tr th {\n",
              "        vertical-align: top;\n",
              "    }\n",
              "\n",
              "    .dataframe thead th {\n",
              "        text-align: right;\n",
              "    }\n",
              "</style>\n",
              "<table border=\"1\" class=\"dataframe\">\n",
              "  <thead>\n",
              "    <tr style=\"text-align: right;\">\n",
              "      <th></th>\n",
              "      <th>ID_Pedido</th>\n",
              "      <th>ID_Loja</th>\n",
              "      <th>ID_Cliente</th>\n",
              "      <th>Data_Compra</th>\n",
              "      <th>Quantidade_Itens</th>\n",
              "      <th>Quantidade_Envios</th>\n",
              "      <th>Lucro</th>\n",
              "      <th>Vendas</th>\n",
              "    </tr>\n",
              "  </thead>\n",
              "  <tbody>\n",
              "    <tr>\n",
              "      <th>4950</th>\n",
              "      <td>4951</td>\n",
              "      <td>6</td>\n",
              "      <td>465</td>\n",
              "      <td>01/12/2018</td>\n",
              "      <td>2</td>\n",
              "      <td>2</td>\n",
              "      <td>-617.2400</td>\n",
              "      <td>6696.9600</td>\n",
              "    </tr>\n",
              "    <tr>\n",
              "      <th>1226</th>\n",
              "      <td>1227</td>\n",
              "      <td>124</td>\n",
              "      <td>341</td>\n",
              "      <td>12/06/2016</td>\n",
              "      <td>4</td>\n",
              "      <td>4</td>\n",
              "      <td>591.9672</td>\n",
              "      <td>5308.9672</td>\n",
              "    </tr>\n",
              "    <tr>\n",
              "      <th>266</th>\n",
              "      <td>267</td>\n",
              "      <td>40</td>\n",
              "      <td>45</td>\n",
              "      <td>17/06/2015</td>\n",
              "      <td>1</td>\n",
              "      <td>1</td>\n",
              "      <td>-5352.9600</td>\n",
              "      <td>3691.4400</td>\n",
              "    </tr>\n",
              "    <tr>\n",
              "      <th>3057</th>\n",
              "      <td>3058</td>\n",
              "      <td>71</td>\n",
              "      <td>342</td>\n",
              "      <td>26/10/2017</td>\n",
              "      <td>2</td>\n",
              "      <td>2</td>\n",
              "      <td>21.2400</td>\n",
              "      <td>1401.8400</td>\n",
              "    </tr>\n",
              "    <tr>\n",
              "      <th>2866</th>\n",
              "      <td>2867</td>\n",
              "      <td>56</td>\n",
              "      <td>371</td>\n",
              "      <td>22/09/2017</td>\n",
              "      <td>3</td>\n",
              "      <td>3</td>\n",
              "      <td>341.8000</td>\n",
              "      <td>1519.2000</td>\n",
              "    </tr>\n",
              "  </tbody>\n",
              "</table>\n",
              "</div>"
            ],
            "text/plain": [
              "      ID_Pedido  ID_Loja  ID_Cliente  ... Quantidade_Envios      Lucro     Vendas\n",
              "4950       4951        6         465  ...                 2  -617.2400  6696.9600\n",
              "1226       1227      124         341  ...                 4   591.9672  5308.9672\n",
              "266         267       40          45  ...                 1 -5352.9600  3691.4400\n",
              "3057       3058       71         342  ...                 2    21.2400  1401.8400\n",
              "2866       2867       56         371  ...                 3   341.8000  1519.2000\n",
              "\n",
              "[5 rows x 8 columns]"
            ]
          },
          "metadata": {
            "tags": []
          },
          "execution_count": 31
        }
      ]
    },
    {
      "cell_type": "code",
      "metadata": {
        "colab": {
          "base_uri": "https://localhost:8080/"
        },
        "id": "FAwxomI0hhlI",
        "outputId": "2ee6f698-b7d9-4919-9ade-c503a71e2020"
      },
      "source": [
        "# Informações sobre este DataFrame\n",
        "# Na seguinte etapa trataremos esta variável\n",
        "\n",
        "df_Pedidos.info()"
      ],
      "execution_count": null,
      "outputs": [
        {
          "output_type": "stream",
          "text": [
            "<class 'pandas.core.frame.DataFrame'>\n",
            "RangeIndex: 5147 entries, 0 to 5146\n",
            "Data columns (total 8 columns):\n",
            " #   Column             Non-Null Count  Dtype  \n",
            "---  ------             --------------  -----  \n",
            " 0   ID_Pedido          5147 non-null   int64  \n",
            " 1   ID_Loja            5147 non-null   int64  \n",
            " 2   ID_Cliente         5147 non-null   int64  \n",
            " 3   Data_Compra        5145 non-null   object \n",
            " 4   Quantidade_Itens   5147 non-null   int64  \n",
            " 5   Quantidade_Envios  5147 non-null   int64  \n",
            " 6   Lucro              5146 non-null   float64\n",
            " 7   Vendas             5146 non-null   float64\n",
            "dtypes: float64(2), int64(5), object(1)\n",
            "memory usage: 321.8+ KB\n"
          ],
          "name": "stdout"
        }
      ]
    },
    {
      "cell_type": "code",
      "metadata": {
        "colab": {
          "base_uri": "https://localhost:8080/"
        },
        "id": "N3ARUn1chhLP",
        "outputId": "e7739926-937a-4190-8e3e-826b99928e68"
      },
      "source": [
        "# Décima sexta folha do excel\n",
        "\n",
        "df_Pedidos_Pagamento.sample(5)"
      ],
      "execution_count": null,
      "outputs": [
        {
          "output_type": "execute_result",
          "data": {
            "text/html": [
              "<div>\n",
              "<style scoped>\n",
              "    .dataframe tbody tr th:only-of-type {\n",
              "        vertical-align: middle;\n",
              "    }\n",
              "\n",
              "    .dataframe tbody tr th {\n",
              "        vertical-align: top;\n",
              "    }\n",
              "\n",
              "    .dataframe thead th {\n",
              "        text-align: right;\n",
              "    }\n",
              "</style>\n",
              "<table border=\"1\" class=\"dataframe\">\n",
              "  <thead>\n",
              "    <tr style=\"text-align: right;\">\n",
              "      <th></th>\n",
              "      <th>ID_Pedido_Pagamento</th>\n",
              "      <th>ID_Pedido</th>\n",
              "      <th>ID_Forma_Pagamento</th>\n",
              "      <th>Vendas</th>\n",
              "    </tr>\n",
              "  </thead>\n",
              "  <tbody>\n",
              "    <tr>\n",
              "      <th>7264</th>\n",
              "      <td>7265</td>\n",
              "      <td>3805</td>\n",
              "      <td>2</td>\n",
              "      <td>1890.398495</td>\n",
              "    </tr>\n",
              "    <tr>\n",
              "      <th>9364</th>\n",
              "      <td>9365</td>\n",
              "      <td>4921</td>\n",
              "      <td>2</td>\n",
              "      <td>381.543758</td>\n",
              "    </tr>\n",
              "    <tr>\n",
              "      <th>7825</th>\n",
              "      <td>7826</td>\n",
              "      <td>4102</td>\n",
              "      <td>1</td>\n",
              "      <td>225.780000</td>\n",
              "    </tr>\n",
              "    <tr>\n",
              "      <th>9694</th>\n",
              "      <td>9695</td>\n",
              "      <td>5093</td>\n",
              "      <td>2</td>\n",
              "      <td>2784.215933</td>\n",
              "    </tr>\n",
              "    <tr>\n",
              "      <th>4299</th>\n",
              "      <td>4300</td>\n",
              "      <td>2250</td>\n",
              "      <td>1</td>\n",
              "      <td>1005.850000</td>\n",
              "    </tr>\n",
              "  </tbody>\n",
              "</table>\n",
              "</div>"
            ],
            "text/plain": [
              "      ID_Pedido_Pagamento  ID_Pedido  ID_Forma_Pagamento       Vendas\n",
              "7264                 7265       3805                   2  1890.398495\n",
              "9364                 9365       4921                   2   381.543758\n",
              "7825                 7826       4102                   1   225.780000\n",
              "9694                 9695       5093                   2  2784.215933\n",
              "4299                 4300       2250                   1  1005.850000"
            ]
          },
          "metadata": {
            "tags": []
          },
          "execution_count": 33
        }
      ]
    },
    {
      "cell_type": "code",
      "metadata": {
        "colab": {
          "base_uri": "https://localhost:8080/"
        },
        "id": "0Ojzki6FqVL_",
        "outputId": "c1886f30-3387-4f8b-eb65-9fc29c633373"
      },
      "source": [
        "# Informações sobre esta ava\n",
        "\n",
        "df_Pedidos_Pagamento.info()"
      ],
      "execution_count": null,
      "outputs": [
        {
          "output_type": "stream",
          "text": [
            "<class 'pandas.core.frame.DataFrame'>\n",
            "RangeIndex: 9794 entries, 0 to 9793\n",
            "Data columns (total 4 columns):\n",
            " #   Column               Non-Null Count  Dtype  \n",
            "---  ------               --------------  -----  \n",
            " 0   ID_Pedido_Pagamento  9794 non-null   int64  \n",
            " 1   ID_Pedido            9794 non-null   int64  \n",
            " 2   ID_Forma_Pagamento   9794 non-null   int64  \n",
            " 3   Vendas               9794 non-null   float64\n",
            "dtypes: float64(1), int64(3)\n",
            "memory usage: 306.2 KB\n"
          ],
          "name": "stdout"
        }
      ]
    },
    {
      "cell_type": "code",
      "metadata": {
        "colab": {
          "base_uri": "https://localhost:8080/"
        },
        "id": "PSHoGNieqWVk",
        "outputId": "10045e89-8a51-42e3-d569-1e02ff34ba29"
      },
      "source": [
        "# Décima sétima folha do excel\n",
        "\n",
        "df_Pedidos_Itens.sample(5)"
      ],
      "execution_count": null,
      "outputs": [
        {
          "output_type": "execute_result",
          "data": {
            "text/html": [
              "<div>\n",
              "<style scoped>\n",
              "    .dataframe tbody tr th:only-of-type {\n",
              "        vertical-align: middle;\n",
              "    }\n",
              "\n",
              "    .dataframe tbody tr th {\n",
              "        vertical-align: top;\n",
              "    }\n",
              "\n",
              "    .dataframe thead th {\n",
              "        text-align: right;\n",
              "    }\n",
              "</style>\n",
              "<table border=\"1\" class=\"dataframe\">\n",
              "  <thead>\n",
              "    <tr style=\"text-align: right;\">\n",
              "      <th></th>\n",
              "      <th>ID</th>\n",
              "      <th>ID_Pedido</th>\n",
              "      <th>ID_Item</th>\n",
              "      <th>Quantidade</th>\n",
              "      <th>Desconto</th>\n",
              "      <th>Lucro</th>\n",
              "      <th>Vendas</th>\n",
              "    </tr>\n",
              "  </thead>\n",
              "  <tbody>\n",
              "    <tr>\n",
              "      <th>9256</th>\n",
              "      <td>9257</td>\n",
              "      <td>4623</td>\n",
              "      <td>832</td>\n",
              "      <td>6</td>\n",
              "      <td>0.000</td>\n",
              "      <td>205.2000</td>\n",
              "      <td>734.4000</td>\n",
              "    </tr>\n",
              "    <tr>\n",
              "      <th>4264</th>\n",
              "      <td>4265</td>\n",
              "      <td>2172</td>\n",
              "      <td>588</td>\n",
              "      <td>2</td>\n",
              "      <td>0.400</td>\n",
              "      <td>-249.6800</td>\n",
              "      <td>880.3200</td>\n",
              "    </tr>\n",
              "    <tr>\n",
              "      <th>497</th>\n",
              "      <td>498</td>\n",
              "      <td>263</td>\n",
              "      <td>1661</td>\n",
              "      <td>7</td>\n",
              "      <td>0.000</td>\n",
              "      <td>1717.8000</td>\n",
              "      <td>6874.0000</td>\n",
              "    </tr>\n",
              "    <tr>\n",
              "      <th>9594</th>\n",
              "      <td>9595</td>\n",
              "      <td>4793</td>\n",
              "      <td>651</td>\n",
              "      <td>7</td>\n",
              "      <td>0.500</td>\n",
              "      <td>-2305.1000</td>\n",
              "      <td>2680.3000</td>\n",
              "    </tr>\n",
              "    <tr>\n",
              "      <th>9603</th>\n",
              "      <td>9604</td>\n",
              "      <td>4797</td>\n",
              "      <td>1033</td>\n",
              "      <td>4</td>\n",
              "      <td>0.002</td>\n",
              "      <td>1294.1264</td>\n",
              "      <td>6523.7264</td>\n",
              "    </tr>\n",
              "  </tbody>\n",
              "</table>\n",
              "</div>"
            ],
            "text/plain": [
              "        ID  ID_Pedido  ID_Item  Quantidade  Desconto      Lucro     Vendas\n",
              "9256  9257       4623      832           6     0.000   205.2000   734.4000\n",
              "4264  4265       2172      588           2     0.400  -249.6800   880.3200\n",
              "497    498        263     1661           7     0.000  1717.8000  6874.0000\n",
              "9594  9595       4793      651           7     0.500 -2305.1000  2680.3000\n",
              "9603  9604       4797     1033           4     0.002  1294.1264  6523.7264"
            ]
          },
          "metadata": {
            "tags": []
          },
          "execution_count": 35
        }
      ]
    },
    {
      "cell_type": "code",
      "metadata": {
        "colab": {
          "base_uri": "https://localhost:8080/"
        },
        "id": "iDd26HtkqWSl",
        "outputId": "8ee616df-3686-4c66-c969-6f26d534fc20"
      },
      "source": [
        "# Informações sobre este DataFrame\n",
        "\n",
        "df_Pedidos_Itens.info()"
      ],
      "execution_count": null,
      "outputs": [
        {
          "output_type": "stream",
          "text": [
            "<class 'pandas.core.frame.DataFrame'>\n",
            "RangeIndex: 10281 entries, 0 to 10280\n",
            "Data columns (total 7 columns):\n",
            " #   Column      Non-Null Count  Dtype  \n",
            "---  ------      --------------  -----  \n",
            " 0   ID          10281 non-null  int64  \n",
            " 1   ID_Pedido   10281 non-null  int64  \n",
            " 2   ID_Item     10281 non-null  int64  \n",
            " 3   Quantidade  10281 non-null  int64  \n",
            " 4   Desconto    10281 non-null  float64\n",
            " 5   Lucro       10281 non-null  float64\n",
            " 6   Vendas      10281 non-null  float64\n",
            "dtypes: float64(3), int64(4)\n",
            "memory usage: 562.4 KB\n"
          ],
          "name": "stdout"
        }
      ]
    },
    {
      "cell_type": "code",
      "metadata": {
        "colab": {
          "base_uri": "https://localhost:8080/"
        },
        "id": "jrEx7DYqqWQL",
        "outputId": "7706e342-90a5-4be6-d15b-83f70da1ad2b"
      },
      "source": [
        "# Décima oitava folha do excel\n",
        "\n",
        "df_Pedidos_Envios.sample(5)"
      ],
      "execution_count": null,
      "outputs": [
        {
          "output_type": "execute_result",
          "data": {
            "text/html": [
              "<div>\n",
              "<style scoped>\n",
              "    .dataframe tbody tr th:only-of-type {\n",
              "        vertical-align: middle;\n",
              "    }\n",
              "\n",
              "    .dataframe tbody tr th {\n",
              "        vertical-align: top;\n",
              "    }\n",
              "\n",
              "    .dataframe thead th {\n",
              "        text-align: right;\n",
              "    }\n",
              "</style>\n",
              "<table border=\"1\" class=\"dataframe\">\n",
              "  <thead>\n",
              "    <tr style=\"text-align: right;\">\n",
              "      <th></th>\n",
              "      <th>ID</th>\n",
              "      <th>ID_Pedido_Item</th>\n",
              "      <th>ID_Modo_Envio</th>\n",
              "      <th>Data_Envio</th>\n",
              "      <th>Vendas</th>\n",
              "    </tr>\n",
              "  </thead>\n",
              "  <tbody>\n",
              "    <tr>\n",
              "      <th>1867</th>\n",
              "      <td>1868</td>\n",
              "      <td>6488</td>\n",
              "      <td>3</td>\n",
              "      <td>43063.000000</td>\n",
              "      <td>2061.6000</td>\n",
              "    </tr>\n",
              "    <tr>\n",
              "      <th>9667</th>\n",
              "      <td>9668</td>\n",
              "      <td>9215</td>\n",
              "      <td>1</td>\n",
              "      <td>43394.083333</td>\n",
              "      <td>14828.4836</td>\n",
              "    </tr>\n",
              "    <tr>\n",
              "      <th>2220</th>\n",
              "      <td>2221</td>\n",
              "      <td>917</td>\n",
              "      <td>4</td>\n",
              "      <td>42264.000000</td>\n",
              "      <td>775.3200</td>\n",
              "    </tr>\n",
              "    <tr>\n",
              "      <th>3267</th>\n",
              "      <td>3268</td>\n",
              "      <td>3788</td>\n",
              "      <td>1</td>\n",
              "      <td>42730.000000</td>\n",
              "      <td>4762.0800</td>\n",
              "    </tr>\n",
              "    <tr>\n",
              "      <th>6075</th>\n",
              "      <td>6076</td>\n",
              "      <td>3464</td>\n",
              "      <td>1</td>\n",
              "      <td>42693.000000</td>\n",
              "      <td>2294.4000</td>\n",
              "    </tr>\n",
              "  </tbody>\n",
              "</table>\n",
              "</div>"
            ],
            "text/plain": [
              "        ID  ID_Pedido_Item  ID_Modo_Envio    Data_Envio      Vendas\n",
              "1867  1868            6488              3  43063.000000   2061.6000\n",
              "9667  9668            9215              1  43394.083333  14828.4836\n",
              "2220  2221             917              4  42264.000000    775.3200\n",
              "3267  3268            3788              1  42730.000000   4762.0800\n",
              "6075  6076            3464              1  42693.000000   2294.4000"
            ]
          },
          "metadata": {
            "tags": []
          },
          "execution_count": 37
        }
      ]
    },
    {
      "cell_type": "code",
      "metadata": {
        "colab": {
          "base_uri": "https://localhost:8080/"
        },
        "id": "vfBQRzlarYxt",
        "outputId": "aadc8fbf-58f6-4efc-cd78-d1c206a009cd"
      },
      "source": [
        "# Usando o método .info() para observar as informações deste DataFrame\n",
        "\n",
        "df_Pedidos_Envios.info()"
      ],
      "execution_count": null,
      "outputs": [
        {
          "output_type": "stream",
          "text": [
            "<class 'pandas.core.frame.DataFrame'>\n",
            "RangeIndex: 10283 entries, 0 to 10282\n",
            "Data columns (total 5 columns):\n",
            " #   Column          Non-Null Count  Dtype  \n",
            "---  ------          --------------  -----  \n",
            " 0   ID              10283 non-null  int64  \n",
            " 1   ID_Pedido_Item  10283 non-null  int64  \n",
            " 2   ID_Modo_Envio   10283 non-null  int64  \n",
            " 3   Data_Envio      10283 non-null  float64\n",
            " 4   Vendas          10283 non-null  float64\n",
            "dtypes: float64(2), int64(3)\n",
            "memory usage: 401.8 KB\n"
          ],
          "name": "stdout"
        }
      ]
    },
    {
      "cell_type": "markdown",
      "metadata": {
        "id": "pe-DLp9vqS3R"
      },
      "source": [
        "## II. e III. LIMPEZA, TRANSFORMAÇÃO, ANÁLISE E EXPLORAÇÃO DOS DADOS\n",
        "\n",
        "Aqui vamos a identificar que Dados estão faltando, remover Dados duplicados, substituir esses valores missing (se for necessário), normalizar (se for necessário) e descubrir se existem possíveis valores que possam alterar a nossa análise ou alguma previsão futura de mercado."
      ]
    },
    {
      "cell_type": "markdown",
      "metadata": {
        "id": "moEAi11oA4Fk"
      },
      "source": [
        "Tratamento para **df_Estados**:"
      ]
    },
    {
      "cell_type": "code",
      "metadata": {
        "id": "qVnDPsd1BGJg"
      },
      "source": [
        "# Utilizo o método .drop_duplicates(), para eliminar as linhas repetidas\n",
        "\n",
        "df_Estados = df_Estados.drop_duplicates()"
      ],
      "execution_count": null,
      "outputs": []
    },
    {
      "cell_type": "code",
      "metadata": {
        "colab": {
          "base_uri": "https://localhost:8080/"
        },
        "id": "SqMBmKweBXc1",
        "outputId": "9f03e413-d4c2-4236-ce1a-a1e56c13f2b7"
      },
      "source": [
        "# Verifico mais uma vez este DataFrame\n",
        "\n",
        "df_Estados.info()"
      ],
      "execution_count": null,
      "outputs": [
        {
          "output_type": "stream",
          "text": [
            "<class 'pandas.core.frame.DataFrame'>\n",
            "Int64Index: 223 entries, 0 to 222\n",
            "Data columns (total 3 columns):\n",
            " #   Column     Non-Null Count  Dtype \n",
            "---  ------     --------------  ----- \n",
            " 0   ID_Estado  223 non-null    int64 \n",
            " 1   ID_Pais    223 non-null    int64 \n",
            " 2   Estado     223 non-null    object\n",
            "dtypes: int64(2), object(1)\n",
            "memory usage: 7.0+ KB\n"
          ],
          "name": "stdout"
        }
      ]
    },
    {
      "cell_type": "code",
      "metadata": {
        "id": "Y9Aq3xHGScqB"
      },
      "source": [
        "# Exportando para um arquivo excel\n",
        "\n",
        "df_Estados.to_excel(\"Estados1.xlsx\", index=False)"
      ],
      "execution_count": null,
      "outputs": []
    },
    {
      "cell_type": "markdown",
      "metadata": {
        "id": "2owhjAMnBjQc"
      },
      "source": [
        "Tratamento para **df_Cidades**:"
      ]
    },
    {
      "cell_type": "code",
      "metadata": {
        "id": "I4g7oMHLBqnc"
      },
      "source": [
        "# Utilizo o método .drop_duplicates()\n",
        "\n",
        "df_Cidades = df_Cidades.drop_duplicates()"
      ],
      "execution_count": null,
      "outputs": []
    },
    {
      "cell_type": "code",
      "metadata": {
        "id": "PcVJgVyaTUlk"
      },
      "source": [
        "# Exportando para um arquivo excel\n",
        "\n",
        "df_Cidades.to_excel(\"Cidades1.xlsx\", index=False)"
      ],
      "execution_count": null,
      "outputs": []
    },
    {
      "cell_type": "code",
      "metadata": {
        "colab": {
          "base_uri": "https://localhost:8080/"
        },
        "id": "XyyyJErPBznX",
        "outputId": "b7af3ffa-4b14-45eb-eae4-1eb627a75a55"
      },
      "source": [
        "# Verificando \n",
        "\n",
        "df_Cidades.info()"
      ],
      "execution_count": null,
      "outputs": [
        {
          "output_type": "stream",
          "text": [
            "<class 'pandas.core.frame.DataFrame'>\n",
            "Int64Index: 641 entries, 0 to 640\n",
            "Data columns (total 3 columns):\n",
            " #   Column     Non-Null Count  Dtype \n",
            "---  ------     --------------  ----- \n",
            " 0   ID_Cidade  641 non-null    int64 \n",
            " 1   ID_Estado  641 non-null    int64 \n",
            " 2   Cidade     641 non-null    object\n",
            "dtypes: int64(2), object(1)\n",
            "memory usage: 20.0+ KB\n"
          ],
          "name": "stdout"
        }
      ]
    },
    {
      "cell_type": "markdown",
      "metadata": {
        "id": "a55Dvt-4CAa_"
      },
      "source": [
        "Tratamento para **df_Lojas**:"
      ]
    },
    {
      "cell_type": "code",
      "metadata": {
        "id": "LePBKQ3-CF_K"
      },
      "source": [
        "# Eliminando linhas repetidas\n",
        "\n",
        "df_Lojas = df_Lojas.drop_duplicates()"
      ],
      "execution_count": null,
      "outputs": []
    },
    {
      "cell_type": "code",
      "metadata": {
        "id": "Ah3pPw6RTs8U"
      },
      "source": [
        "# Exportando para um arquivo excel\n",
        "\n",
        "df_Lojas.to_excel(\"Lojas1.xlsx\", index=False)"
      ],
      "execution_count": null,
      "outputs": []
    },
    {
      "cell_type": "code",
      "metadata": {
        "colab": {
          "base_uri": "https://localhost:8080/"
        },
        "id": "fDO1fXRICNUF",
        "outputId": "3c5c07c9-6029-41b3-9d99-f2a1d06ffe8b"
      },
      "source": [
        "# Verificando\n",
        "\n",
        "df_Lojas.info()"
      ],
      "execution_count": null,
      "outputs": [
        {
          "output_type": "stream",
          "text": [
            "<class 'pandas.core.frame.DataFrame'>\n",
            "Int64Index: 641 entries, 0 to 640\n",
            "Data columns (total 4 columns):\n",
            " #   Column            Non-Null Count  Dtype  \n",
            "---  ------            --------------  -----  \n",
            " 0   ID_Loja           641 non-null    int64  \n",
            " 1   ID_Cidade         641 non-null    int64  \n",
            " 2   Nome_Loja         641 non-null    object \n",
            " 3   Data_Inauguracao  641 non-null    float64\n",
            "dtypes: float64(1), int64(2), object(1)\n",
            "memory usage: 25.0+ KB\n"
          ],
          "name": "stdout"
        }
      ]
    },
    {
      "cell_type": "markdown",
      "metadata": {
        "id": "ArXP2S4CCifz"
      },
      "source": [
        "Tratamento para **df_Clientes**:"
      ]
    },
    {
      "cell_type": "code",
      "metadata": {
        "id": "O6uhSRq7CnBV"
      },
      "source": [
        "# Eliminando linhas repetidas\n",
        "\n",
        "df_Clientes = df_Clientes.drop_duplicates()"
      ],
      "execution_count": null,
      "outputs": []
    },
    {
      "cell_type": "code",
      "metadata": {
        "id": "FhG4_rlFVs8u"
      },
      "source": [
        "# Exportando para um arquivo excel\n",
        "\n",
        "df_Clientes.to_excel(\"Clientes1.xlsx\", index=False)"
      ],
      "execution_count": null,
      "outputs": []
    },
    {
      "cell_type": "code",
      "metadata": {
        "colab": {
          "base_uri": "https://localhost:8080/"
        },
        "id": "n0hFCW93CroT",
        "outputId": "0b65a6ee-4810-4115-8b56-6d1e19383ed3"
      },
      "source": [
        "df_Clientes.info()"
      ],
      "execution_count": null,
      "outputs": [
        {
          "output_type": "stream",
          "text": [
            "<class 'pandas.core.frame.DataFrame'>\n",
            "Int64Index: 794 entries, 0 to 793\n",
            "Data columns (total 4 columns):\n",
            " #   Column         Non-Null Count  Dtype  \n",
            "---  ------         --------------  -----  \n",
            " 0   ID_Cliente     794 non-null    int64  \n",
            " 1   ID_Segmento    794 non-null    int64  \n",
            " 2   Nome_Cliente   794 non-null    object \n",
            " 3   Data_Cadastro  794 non-null    float64\n",
            "dtypes: float64(1), int64(2), object(1)\n",
            "memory usage: 31.0+ KB\n"
          ],
          "name": "stdout"
        }
      ]
    },
    {
      "cell_type": "markdown",
      "metadata": {
        "id": "Fzurd50ZfDXd"
      },
      "source": [
        "Tratamento para **df_Categorias**:"
      ]
    },
    {
      "cell_type": "code",
      "metadata": {
        "id": "nlaSIs1xqglh",
        "colab": {
          "base_uri": "https://localhost:8080/"
        },
        "outputId": "ad9d7e5a-5d9e-467c-9aa4-641d3fc3a74e"
      },
      "source": [
        "# Neste DataFrame observamos que faltam três valores. Então, vamos a substituir por um valor razoável a cada categoria\n",
        "\n",
        "df_Categorias.head(5)"
      ],
      "execution_count": null,
      "outputs": [
        {
          "output_type": "execute_result",
          "data": {
            "text/html": [
              "<div>\n",
              "<style scoped>\n",
              "    .dataframe tbody tr th:only-of-type {\n",
              "        vertical-align: middle;\n",
              "    }\n",
              "\n",
              "    .dataframe tbody tr th {\n",
              "        vertical-align: top;\n",
              "    }\n",
              "\n",
              "    .dataframe thead th {\n",
              "        text-align: right;\n",
              "    }\n",
              "</style>\n",
              "<table border=\"1\" class=\"dataframe\">\n",
              "  <thead>\n",
              "    <tr style=\"text-align: right;\">\n",
              "      <th></th>\n",
              "      <th>ID_Categoria</th>\n",
              "      <th>Categoria</th>\n",
              "      <th>ID_Categoria_Pai</th>\n",
              "    </tr>\n",
              "  </thead>\n",
              "  <tbody>\n",
              "    <tr>\n",
              "      <th>0</th>\n",
              "      <td>1</td>\n",
              "      <td>Material de escritório</td>\n",
              "      <td>NaN</td>\n",
              "    </tr>\n",
              "    <tr>\n",
              "      <th>1</th>\n",
              "      <td>2</td>\n",
              "      <td>Móveis</td>\n",
              "      <td>NaN</td>\n",
              "    </tr>\n",
              "    <tr>\n",
              "      <th>2</th>\n",
              "      <td>3</td>\n",
              "      <td>Tecnologia</td>\n",
              "      <td>NaN</td>\n",
              "    </tr>\n",
              "    <tr>\n",
              "      <th>3</th>\n",
              "      <td>4</td>\n",
              "      <td>Armazenamento</td>\n",
              "      <td>1.0</td>\n",
              "    </tr>\n",
              "    <tr>\n",
              "      <th>4</th>\n",
              "      <td>5</td>\n",
              "      <td>Arte</td>\n",
              "      <td>1.0</td>\n",
              "    </tr>\n",
              "  </tbody>\n",
              "</table>\n",
              "</div>"
            ],
            "text/plain": [
              "   ID_Categoria               Categoria  ID_Categoria_Pai\n",
              "0             1  Material de escritório               NaN\n",
              "1             2                  Móveis               NaN\n",
              "2             3              Tecnologia               NaN\n",
              "3             4           Armazenamento               1.0\n",
              "4             5                    Arte               1.0"
            ]
          },
          "metadata": {
            "tags": []
          },
          "execution_count": 51
        }
      ]
    },
    {
      "cell_type": "code",
      "metadata": {
        "colab": {
          "base_uri": "https://localhost:8080/"
        },
        "id": "I7bgjkTnuYRJ",
        "outputId": "b740287a-01bf-45bb-ec44-04cc44d8eacd"
      },
      "source": [
        "# Substituímos os três primeiros valores, assim:\n",
        "\n",
        "#df_Categorias['ID_Categoria_Pai'].fillna(2, inplace=True)\n",
        "df_Categorias['ID_Categoria_Pai'][df_Categorias['ID_Categoria']==1]=1\n",
        "df_Categorias['ID_Categoria_Pai'][df_Categorias['ID_Categoria']==2]=2\n",
        "df_Categorias['ID_Categoria_Pai'][df_Categorias['ID_Categoria']==3]=3\n",
        "\n",
        "df_Categorias.head()"
      ],
      "execution_count": null,
      "outputs": [
        {
          "output_type": "execute_result",
          "data": {
            "text/html": [
              "<div>\n",
              "<style scoped>\n",
              "    .dataframe tbody tr th:only-of-type {\n",
              "        vertical-align: middle;\n",
              "    }\n",
              "\n",
              "    .dataframe tbody tr th {\n",
              "        vertical-align: top;\n",
              "    }\n",
              "\n",
              "    .dataframe thead th {\n",
              "        text-align: right;\n",
              "    }\n",
              "</style>\n",
              "<table border=\"1\" class=\"dataframe\">\n",
              "  <thead>\n",
              "    <tr style=\"text-align: right;\">\n",
              "      <th></th>\n",
              "      <th>ID_Categoria</th>\n",
              "      <th>Categoria</th>\n",
              "      <th>ID_Categoria_Pai</th>\n",
              "    </tr>\n",
              "  </thead>\n",
              "  <tbody>\n",
              "    <tr>\n",
              "      <th>0</th>\n",
              "      <td>1</td>\n",
              "      <td>Material de escritório</td>\n",
              "      <td>1.0</td>\n",
              "    </tr>\n",
              "    <tr>\n",
              "      <th>1</th>\n",
              "      <td>2</td>\n",
              "      <td>Móveis</td>\n",
              "      <td>2.0</td>\n",
              "    </tr>\n",
              "    <tr>\n",
              "      <th>2</th>\n",
              "      <td>3</td>\n",
              "      <td>Tecnologia</td>\n",
              "      <td>3.0</td>\n",
              "    </tr>\n",
              "    <tr>\n",
              "      <th>3</th>\n",
              "      <td>4</td>\n",
              "      <td>Armazenamento</td>\n",
              "      <td>1.0</td>\n",
              "    </tr>\n",
              "    <tr>\n",
              "      <th>4</th>\n",
              "      <td>5</td>\n",
              "      <td>Arte</td>\n",
              "      <td>1.0</td>\n",
              "    </tr>\n",
              "  </tbody>\n",
              "</table>\n",
              "</div>"
            ],
            "text/plain": [
              "   ID_Categoria               Categoria  ID_Categoria_Pai\n",
              "0             1  Material de escritório               1.0\n",
              "1             2                  Móveis               2.0\n",
              "2             3              Tecnologia               3.0\n",
              "3             4           Armazenamento               1.0\n",
              "4             5                    Arte               1.0"
            ]
          },
          "metadata": {
            "tags": []
          },
          "execution_count": 52
        }
      ]
    },
    {
      "cell_type": "code",
      "metadata": {
        "id": "4n2pX5h-C7oP"
      },
      "source": [
        "# Aplico o método .drop_duplicates(), por acaso\n",
        "\n",
        "df_Categorias = df_Categorias.drop_duplicates()"
      ],
      "execution_count": null,
      "outputs": []
    },
    {
      "cell_type": "code",
      "metadata": {
        "id": "R3icEy_bWEtm"
      },
      "source": [
        "# Exportando para um arquivo excel\n",
        "\n",
        "df_Categorias.to_excel(\"Categorias1.xlsx\", index=False)"
      ],
      "execution_count": null,
      "outputs": []
    },
    {
      "cell_type": "code",
      "metadata": {
        "colab": {
          "base_uri": "https://localhost:8080/"
        },
        "id": "XW8FVKb_DEGk",
        "outputId": "49c00171-0dec-4e8f-c47f-3090738fe82f"
      },
      "source": [
        "df_Categorias.info()"
      ],
      "execution_count": null,
      "outputs": [
        {
          "output_type": "stream",
          "text": [
            "<class 'pandas.core.frame.DataFrame'>\n",
            "Int64Index: 20 entries, 0 to 19\n",
            "Data columns (total 3 columns):\n",
            " #   Column            Non-Null Count  Dtype  \n",
            "---  ------            --------------  -----  \n",
            " 0   ID_Categoria      20 non-null     int64  \n",
            " 1   Categoria         20 non-null     object \n",
            " 2   ID_Categoria_Pai  20 non-null     float64\n",
            "dtypes: float64(1), int64(1), object(1)\n",
            "memory usage: 640.0+ bytes\n"
          ],
          "name": "stdout"
        }
      ]
    },
    {
      "cell_type": "markdown",
      "metadata": {
        "id": "JRG8lICGFAJo"
      },
      "source": [
        "Tratamento para **df_Produtos**:"
      ]
    },
    {
      "cell_type": "code",
      "metadata": {
        "id": "Vvm0k-rGFFpo"
      },
      "source": [
        "# Eliminamos as linhas que se repetem\n",
        "\n",
        "df_Produtos = df_Produtos.drop_duplicates()"
      ],
      "execution_count": null,
      "outputs": []
    },
    {
      "cell_type": "code",
      "metadata": {
        "id": "OjbMj1DGWVQb"
      },
      "source": [
        "# Exportando para um arquivo excel\n",
        "\n",
        "df_Produtos.to_excel(\"Produtos1.xlsx\", index=False)"
      ],
      "execution_count": null,
      "outputs": []
    },
    {
      "cell_type": "code",
      "metadata": {
        "colab": {
          "base_uri": "https://localhost:8080/"
        },
        "id": "BQbMyeWhF-z4",
        "outputId": "c1c049fa-0ea6-43f1-b03a-4c0d4b91ba19"
      },
      "source": [
        "df_Produtos.info()"
      ],
      "execution_count": null,
      "outputs": [
        {
          "output_type": "stream",
          "text": [
            "<class 'pandas.core.frame.DataFrame'>\n",
            "Int64Index: 101 entries, 0 to 100\n",
            "Data columns (total 2 columns):\n",
            " #   Column      Non-Null Count  Dtype \n",
            "---  ------      --------------  ----- \n",
            " 0   ID_Produto  101 non-null    int64 \n",
            " 1   Produto     101 non-null    object\n",
            "dtypes: int64(1), object(1)\n",
            "memory usage: 2.4+ KB\n"
          ],
          "name": "stdout"
        }
      ]
    },
    {
      "cell_type": "markdown",
      "metadata": {
        "id": "hP6RTGzgFHpx"
      },
      "source": [
        "Tratamento para **df_Marcas**:"
      ]
    },
    {
      "cell_type": "code",
      "metadata": {
        "id": "tWJOYCH4FO0F"
      },
      "source": [
        "df_Marcas = df_Marcas.drop_duplicates()"
      ],
      "execution_count": null,
      "outputs": []
    },
    {
      "cell_type": "code",
      "metadata": {
        "id": "QQrrOsb9WmPt"
      },
      "source": [
        "# Exportando para um arquivo excel\n",
        "\n",
        "df_Marcas.to_excel(\"Marcas1.xlsx\", index=False)"
      ],
      "execution_count": null,
      "outputs": []
    },
    {
      "cell_type": "code",
      "metadata": {
        "colab": {
          "base_uri": "https://localhost:8080/"
        },
        "id": "ONTeq9_QGQTE",
        "outputId": "a9b451fd-3316-42a5-c544-437029800be3"
      },
      "source": [
        "df_Marcas.info()"
      ],
      "execution_count": null,
      "outputs": [
        {
          "output_type": "stream",
          "text": [
            "<class 'pandas.core.frame.DataFrame'>\n",
            "Int64Index: 76 entries, 0 to 75\n",
            "Data columns (total 2 columns):\n",
            " #   Column    Non-Null Count  Dtype \n",
            "---  ------    --------------  ----- \n",
            " 0   ID_Marca  76 non-null     int64 \n",
            " 1   Marca     76 non-null     object\n",
            "dtypes: int64(1), object(1)\n",
            "memory usage: 1.8+ KB\n"
          ],
          "name": "stdout"
        }
      ]
    },
    {
      "cell_type": "markdown",
      "metadata": {
        "id": "_MzhW4txFPd6"
      },
      "source": [
        "Tratamento para **df_Paises**:"
      ]
    },
    {
      "cell_type": "code",
      "metadata": {
        "id": "ywaKuXYqFRyT"
      },
      "source": [
        "df_Paises = df_Paises.drop_duplicates()"
      ],
      "execution_count": null,
      "outputs": []
    },
    {
      "cell_type": "code",
      "metadata": {
        "id": "Kk1NLFEUW23S"
      },
      "source": [
        "# Exportando para um arquivo excel\n",
        "\n",
        "df_Paises.to_excel(\"Paises1.xlsx\", index=False)"
      ],
      "execution_count": null,
      "outputs": []
    },
    {
      "cell_type": "code",
      "metadata": {
        "colab": {
          "base_uri": "https://localhost:8080/"
        },
        "id": "SKs8JQxtL2HX",
        "outputId": "3e8be72d-ccce-4628-8c39-22dada046596"
      },
      "source": [
        "df_Paises.info()"
      ],
      "execution_count": null,
      "outputs": [
        {
          "output_type": "stream",
          "text": [
            "<class 'pandas.core.frame.DataFrame'>\n",
            "Int64Index: 24 entries, 0 to 23\n",
            "Data columns (total 3 columns):\n",
            " #   Column     Non-Null Count  Dtype \n",
            "---  ------     --------------  ----- \n",
            " 0   ID_Pais    24 non-null     int64 \n",
            " 1   ID_Regiao  24 non-null     int64 \n",
            " 2   País       24 non-null     object\n",
            "dtypes: int64(2), object(1)\n",
            "memory usage: 768.0+ bytes\n"
          ],
          "name": "stdout"
        }
      ]
    },
    {
      "cell_type": "markdown",
      "metadata": {
        "id": "2feq5G8lFSZX"
      },
      "source": [
        "Tratamento para **df_Meta_Pais**:"
      ]
    },
    {
      "cell_type": "code",
      "metadata": {
        "id": "JnL5j9F0FsnG"
      },
      "source": [
        "df_Meta_Pais = df_Meta_Pais.drop_duplicates()"
      ],
      "execution_count": null,
      "outputs": []
    },
    {
      "cell_type": "code",
      "metadata": {
        "id": "r5-IJdH2XDoW"
      },
      "source": [
        "# Exportando para um arquivo excel\n",
        "\n",
        "df_Meta_Pais.to_excel(\"Meta_Pais1.xlsx\", index=False)"
      ],
      "execution_count": null,
      "outputs": []
    },
    {
      "cell_type": "code",
      "metadata": {
        "colab": {
          "base_uri": "https://localhost:8080/"
        },
        "id": "Vf0O6RR-MC2k",
        "outputId": "2d8708a9-6f24-4008-8335-e8372dcba755"
      },
      "source": [
        "df_Meta_Pais.info()"
      ],
      "execution_count": null,
      "outputs": [
        {
          "output_type": "stream",
          "text": [
            "<class 'pandas.core.frame.DataFrame'>\n",
            "Int64Index: 24 entries, 0 to 23\n",
            "Data columns (total 3 columns):\n",
            " #   Column      Non-Null Count  Dtype \n",
            "---  ------      --------------  ----- \n",
            " 0   ID_Pais     24 non-null     int64 \n",
            " 1   País        24 non-null     object\n",
            " 2   Meta_Anual  24 non-null     int64 \n",
            "dtypes: int64(2), object(1)\n",
            "memory usage: 768.0+ bytes\n"
          ],
          "name": "stdout"
        }
      ]
    },
    {
      "cell_type": "markdown",
      "metadata": {
        "id": "cfBRTNqaFtX9"
      },
      "source": [
        "Tratamento para **df_Itens**:"
      ]
    },
    {
      "cell_type": "code",
      "metadata": {
        "id": "8uaSUtvxFyik"
      },
      "source": [
        "df_Itens = df_Itens.drop_duplicates()"
      ],
      "execution_count": null,
      "outputs": []
    },
    {
      "cell_type": "code",
      "metadata": {
        "id": "QFFV_chFXWN2"
      },
      "source": [
        "# Exportando para um arquivo excel\n",
        "\n",
        "df_Itens.to_excel(\"Itens1.xlsx\", index=False)"
      ],
      "execution_count": null,
      "outputs": []
    },
    {
      "cell_type": "code",
      "metadata": {
        "colab": {
          "base_uri": "https://localhost:8080/"
        },
        "id": "sPySga3WMQuV",
        "outputId": "c04a10e6-e336-42df-f714-8be8e2245a1a"
      },
      "source": [
        "df_Itens.info()"
      ],
      "execution_count": null,
      "outputs": [
        {
          "output_type": "stream",
          "text": [
            "<class 'pandas.core.frame.DataFrame'>\n",
            "Int64Index: 1909 entries, 0 to 1908\n",
            "Data columns (total 5 columns):\n",
            " #   Column        Non-Null Count  Dtype \n",
            "---  ------        --------------  ----- \n",
            " 0   ID_Item       1909 non-null   int64 \n",
            " 1   ID_Produto    1909 non-null   int64 \n",
            " 2   ID_Marca      1909 non-null   int64 \n",
            " 3   ID_Categoria  1909 non-null   int64 \n",
            " 4   Descricao     1909 non-null   object\n",
            "dtypes: int64(4), object(1)\n",
            "memory usage: 89.5+ KB\n"
          ],
          "name": "stdout"
        }
      ]
    },
    {
      "cell_type": "markdown",
      "metadata": {
        "id": "YTftR08hfRj3"
      },
      "source": [
        "Tratamento para **df_Pedidos**:"
      ]
    },
    {
      "cell_type": "code",
      "metadata": {
        "colab": {
          "base_uri": "https://localhost:8080/"
        },
        "id": "7d8opbH9imzD",
        "outputId": "4e8141c6-dc74-4ce3-a890-708df2b0dde9"
      },
      "source": [
        "# Neste DataFrame termos cuidado de simplesmente eliminar as linhas repetidas ou linhas sem Dados\n",
        "\n",
        "df_Pedidos.head(50)"
      ],
      "execution_count": null,
      "outputs": [
        {
          "output_type": "execute_result",
          "data": {
            "text/html": [
              "<div>\n",
              "<style scoped>\n",
              "    .dataframe tbody tr th:only-of-type {\n",
              "        vertical-align: middle;\n",
              "    }\n",
              "\n",
              "    .dataframe tbody tr th {\n",
              "        vertical-align: top;\n",
              "    }\n",
              "\n",
              "    .dataframe thead th {\n",
              "        text-align: right;\n",
              "    }\n",
              "</style>\n",
              "<table border=\"1\" class=\"dataframe\">\n",
              "  <thead>\n",
              "    <tr style=\"text-align: right;\">\n",
              "      <th></th>\n",
              "      <th>ID_Pedido</th>\n",
              "      <th>ID_Loja</th>\n",
              "      <th>ID_Cliente</th>\n",
              "      <th>Data_Compra</th>\n",
              "      <th>Quantidade_Itens</th>\n",
              "      <th>Quantidade_Envios</th>\n",
              "      <th>Lucro</th>\n",
              "      <th>Vendas</th>\n",
              "    </tr>\n",
              "  </thead>\n",
              "  <tbody>\n",
              "    <tr>\n",
              "      <th>0</th>\n",
              "      <td>1</td>\n",
              "      <td>1</td>\n",
              "      <td>1</td>\n",
              "      <td>03/01/2015</td>\n",
              "      <td>1</td>\n",
              "      <td>1</td>\n",
              "      <td>448.8000</td>\n",
              "      <td>1952.0000</td>\n",
              "    </tr>\n",
              "    <tr>\n",
              "      <th>1</th>\n",
              "      <td>2</td>\n",
              "      <td>3</td>\n",
              "      <td>5</td>\n",
              "      <td>04/01/2015</td>\n",
              "      <td>2</td>\n",
              "      <td>2</td>\n",
              "      <td>6380.0000</td>\n",
              "      <td>17974.0000</td>\n",
              "    </tr>\n",
              "    <tr>\n",
              "      <th>2</th>\n",
              "      <td>3</td>\n",
              "      <td>6</td>\n",
              "      <td>4</td>\n",
              "      <td>04/01/2015</td>\n",
              "      <td>2</td>\n",
              "      <td>2</td>\n",
              "      <td>627.0824</td>\n",
              "      <td>3881.0824</td>\n",
              "    </tr>\n",
              "    <tr>\n",
              "      <th>3</th>\n",
              "      <td>4</td>\n",
              "      <td>4</td>\n",
              "      <td>3</td>\n",
              "      <td>04/01/2015</td>\n",
              "      <td>1</td>\n",
              "      <td>1</td>\n",
              "      <td>36.0000</td>\n",
              "      <td>1857.6000</td>\n",
              "    </tr>\n",
              "    <tr>\n",
              "      <th>4</th>\n",
              "      <td>5</td>\n",
              "      <td>5</td>\n",
              "      <td>2</td>\n",
              "      <td>04/01/2015</td>\n",
              "      <td>2</td>\n",
              "      <td>2</td>\n",
              "      <td>91.2000</td>\n",
              "      <td>761.0000</td>\n",
              "    </tr>\n",
              "    <tr>\n",
              "      <th>5</th>\n",
              "      <td>6</td>\n",
              "      <td>2</td>\n",
              "      <td>3</td>\n",
              "      <td>04/01/2015</td>\n",
              "      <td>1</td>\n",
              "      <td>1</td>\n",
              "      <td>-1078.5600</td>\n",
              "      <td>743.0400</td>\n",
              "    </tr>\n",
              "    <tr>\n",
              "      <th>6</th>\n",
              "      <td>7</td>\n",
              "      <td>7</td>\n",
              "      <td>6</td>\n",
              "      <td>05/01/2015</td>\n",
              "      <td>1</td>\n",
              "      <td>1</td>\n",
              "      <td>9993.6000</td>\n",
              "      <td>30288.0000</td>\n",
              "    </tr>\n",
              "    <tr>\n",
              "      <th>7</th>\n",
              "      <td>8</td>\n",
              "      <td>8</td>\n",
              "      <td>7</td>\n",
              "      <td>07/01/2015</td>\n",
              "      <td>2</td>\n",
              "      <td>2</td>\n",
              "      <td>84.0000</td>\n",
              "      <td>615.8000</td>\n",
              "    </tr>\n",
              "    <tr>\n",
              "      <th>8</th>\n",
              "      <td>9</td>\n",
              "      <td>9</td>\n",
              "      <td>8</td>\n",
              "      <td>08/01/2015</td>\n",
              "      <td>2</td>\n",
              "      <td>2</td>\n",
              "      <td>2028.2000</td>\n",
              "      <td>4466.0000</td>\n",
              "    </tr>\n",
              "    <tr>\n",
              "      <th>9</th>\n",
              "      <td>10</td>\n",
              "      <td>10</td>\n",
              "      <td>10</td>\n",
              "      <td>10/01/2015</td>\n",
              "      <td>2</td>\n",
              "      <td>2</td>\n",
              "      <td>586.4000</td>\n",
              "      <td>1299.2000</td>\n",
              "    </tr>\n",
              "    <tr>\n",
              "      <th>10</th>\n",
              "      <td>11</td>\n",
              "      <td>11</td>\n",
              "      <td>9</td>\n",
              "      <td>10/01/2015</td>\n",
              "      <td>1</td>\n",
              "      <td>1</td>\n",
              "      <td>-2787.9024</td>\n",
              "      <td>4252.4976</td>\n",
              "    </tr>\n",
              "    <tr>\n",
              "      <th>11</th>\n",
              "      <td>12</td>\n",
              "      <td>12</td>\n",
              "      <td>11</td>\n",
              "      <td>11/01/2015</td>\n",
              "      <td>4</td>\n",
              "      <td>4</td>\n",
              "      <td>2508.0000</td>\n",
              "      <td>21587.0000</td>\n",
              "    </tr>\n",
              "    <tr>\n",
              "      <th>12</th>\n",
              "      <td>13</td>\n",
              "      <td>13</td>\n",
              "      <td>12</td>\n",
              "      <td>12/01/2015</td>\n",
              "      <td>2</td>\n",
              "      <td>2</td>\n",
              "      <td>2468.4852</td>\n",
              "      <td>8800.2852</td>\n",
              "    </tr>\n",
              "    <tr>\n",
              "      <th>13</th>\n",
              "      <td>14</td>\n",
              "      <td>14</td>\n",
              "      <td>13</td>\n",
              "      <td>13/01/2015</td>\n",
              "      <td>1</td>\n",
              "      <td>1</td>\n",
              "      <td>1006.2000</td>\n",
              "      <td>2012.6000</td>\n",
              "    </tr>\n",
              "    <tr>\n",
              "      <th>14</th>\n",
              "      <td>15</td>\n",
              "      <td>15</td>\n",
              "      <td>14</td>\n",
              "      <td>13/01/2015</td>\n",
              "      <td>1</td>\n",
              "      <td>1</td>\n",
              "      <td>-80.0000</td>\n",
              "      <td>264.0000</td>\n",
              "    </tr>\n",
              "    <tr>\n",
              "      <th>15</th>\n",
              "      <td>16</td>\n",
              "      <td>17</td>\n",
              "      <td>15</td>\n",
              "      <td>14/01/2015</td>\n",
              "      <td>4</td>\n",
              "      <td>4</td>\n",
              "      <td>2256.6000</td>\n",
              "      <td>8143.0000</td>\n",
              "    </tr>\n",
              "    <tr>\n",
              "      <th>16</th>\n",
              "      <td>17</td>\n",
              "      <td>16</td>\n",
              "      <td>16</td>\n",
              "      <td>14/01/2015</td>\n",
              "      <td>1</td>\n",
              "      <td>1</td>\n",
              "      <td>189.6000</td>\n",
              "      <td>1055.2000</td>\n",
              "    </tr>\n",
              "    <tr>\n",
              "      <th>17</th>\n",
              "      <td>18</td>\n",
              "      <td>18</td>\n",
              "      <td>17</td>\n",
              "      <td>15/01/2015</td>\n",
              "      <td>1</td>\n",
              "      <td>1</td>\n",
              "      <td>232.2000</td>\n",
              "      <td>2654.4000</td>\n",
              "    </tr>\n",
              "    <tr>\n",
              "      <th>18</th>\n",
              "      <td>19</td>\n",
              "      <td>19</td>\n",
              "      <td>18</td>\n",
              "      <td>17/01/2015</td>\n",
              "      <td>1</td>\n",
              "      <td>1</td>\n",
              "      <td>2517.1124</td>\n",
              "      <td>14115.5124</td>\n",
              "    </tr>\n",
              "    <tr>\n",
              "      <th>19</th>\n",
              "      <td>20</td>\n",
              "      <td>20</td>\n",
              "      <td>19</td>\n",
              "      <td>18/01/2015</td>\n",
              "      <td>1</td>\n",
              "      <td>1</td>\n",
              "      <td>61.2000</td>\n",
              "      <td>384.0000</td>\n",
              "    </tr>\n",
              "    <tr>\n",
              "      <th>20</th>\n",
              "      <td>21</td>\n",
              "      <td>17</td>\n",
              "      <td>20</td>\n",
              "      <td>19/01/2015</td>\n",
              "      <td>3</td>\n",
              "      <td>3</td>\n",
              "      <td>2722.0000</td>\n",
              "      <td>9951.2000</td>\n",
              "    </tr>\n",
              "    <tr>\n",
              "      <th>21</th>\n",
              "      <td>22</td>\n",
              "      <td>22</td>\n",
              "      <td>22</td>\n",
              "      <td>20/01/2015</td>\n",
              "      <td>1</td>\n",
              "      <td>1</td>\n",
              "      <td>818.8000</td>\n",
              "      <td>3722.8000</td>\n",
              "    </tr>\n",
              "    <tr>\n",
              "      <th>22</th>\n",
              "      <td>23</td>\n",
              "      <td>21</td>\n",
              "      <td>21</td>\n",
              "      <td>20/01/2015</td>\n",
              "      <td>1</td>\n",
              "      <td>1</td>\n",
              "      <td>-342.5200</td>\n",
              "      <td>1956.4800</td>\n",
              "    </tr>\n",
              "    <tr>\n",
              "      <th>23</th>\n",
              "      <td>24</td>\n",
              "      <td>23</td>\n",
              "      <td>23</td>\n",
              "      <td>21/01/2015</td>\n",
              "      <td>6</td>\n",
              "      <td>6</td>\n",
              "      <td>2140.6800</td>\n",
              "      <td>35705.6800</td>\n",
              "    </tr>\n",
              "    <tr>\n",
              "      <th>24</th>\n",
              "      <td>25</td>\n",
              "      <td>25</td>\n",
              "      <td>24</td>\n",
              "      <td>22/01/2015</td>\n",
              "      <td>1</td>\n",
              "      <td>1</td>\n",
              "      <td>1011.6000</td>\n",
              "      <td>2594.4000</td>\n",
              "    </tr>\n",
              "    <tr>\n",
              "      <th>25</th>\n",
              "      <td>26</td>\n",
              "      <td>24</td>\n",
              "      <td>25</td>\n",
              "      <td>22/01/2015</td>\n",
              "      <td>2</td>\n",
              "      <td>2</td>\n",
              "      <td>272.0000</td>\n",
              "      <td>3282.0000</td>\n",
              "    </tr>\n",
              "    <tr>\n",
              "      <th>26</th>\n",
              "      <td>27</td>\n",
              "      <td>23</td>\n",
              "      <td>26</td>\n",
              "      <td>23/01/2015</td>\n",
              "      <td>5</td>\n",
              "      <td>5</td>\n",
              "      <td>6213.0000</td>\n",
              "      <td>21200.8000</td>\n",
              "    </tr>\n",
              "    <tr>\n",
              "      <th>27</th>\n",
              "      <td>28</td>\n",
              "      <td>27</td>\n",
              "      <td>15</td>\n",
              "      <td>25/01/2015</td>\n",
              "      <td>1</td>\n",
              "      <td>1</td>\n",
              "      <td>101.2000</td>\n",
              "      <td>317.2000</td>\n",
              "    </tr>\n",
              "    <tr>\n",
              "      <th>28</th>\n",
              "      <td>29</td>\n",
              "      <td>26</td>\n",
              "      <td>27</td>\n",
              "      <td>25/01/2015</td>\n",
              "      <td>1</td>\n",
              "      <td>1</td>\n",
              "      <td>59.8000</td>\n",
              "      <td>176.4000</td>\n",
              "    </tr>\n",
              "    <tr>\n",
              "      <th>29</th>\n",
              "      <td>30</td>\n",
              "      <td>29</td>\n",
              "      <td>28</td>\n",
              "      <td>27/01/2015</td>\n",
              "      <td>1</td>\n",
              "      <td>1</td>\n",
              "      <td>72.6000</td>\n",
              "      <td>345.6000</td>\n",
              "    </tr>\n",
              "    <tr>\n",
              "      <th>30</th>\n",
              "      <td>31</td>\n",
              "      <td>28</td>\n",
              "      <td>29</td>\n",
              "      <td>27/01/2015</td>\n",
              "      <td>2</td>\n",
              "      <td>2</td>\n",
              "      <td>239.4000</td>\n",
              "      <td>1461.2000</td>\n",
              "    </tr>\n",
              "    <tr>\n",
              "      <th>31</th>\n",
              "      <td>32</td>\n",
              "      <td>30</td>\n",
              "      <td>30</td>\n",
              "      <td>29/01/2015</td>\n",
              "      <td>1</td>\n",
              "      <td>1</td>\n",
              "      <td>-4680.1600</td>\n",
              "      <td>4926.2400</td>\n",
              "    </tr>\n",
              "    <tr>\n",
              "      <th>32</th>\n",
              "      <td>33</td>\n",
              "      <td>31</td>\n",
              "      <td>30</td>\n",
              "      <td>29/01/2015</td>\n",
              "      <td>1</td>\n",
              "      <td>1</td>\n",
              "      <td>-5911.7200</td>\n",
              "      <td>3694.6800</td>\n",
              "    </tr>\n",
              "    <tr>\n",
              "      <th>33</th>\n",
              "      <td>34</td>\n",
              "      <td>17</td>\n",
              "      <td>31</td>\n",
              "      <td>31/01/2015</td>\n",
              "      <td>1</td>\n",
              "      <td>1</td>\n",
              "      <td>126.6000</td>\n",
              "      <td>352.2000</td>\n",
              "    </tr>\n",
              "    <tr>\n",
              "      <th>34</th>\n",
              "      <td>35</td>\n",
              "      <td>32</td>\n",
              "      <td>32</td>\n",
              "      <td>31/01/2015</td>\n",
              "      <td>2</td>\n",
              "      <td>2</td>\n",
              "      <td>-274.4400</td>\n",
              "      <td>1151.3600</td>\n",
              "    </tr>\n",
              "    <tr>\n",
              "      <th>35</th>\n",
              "      <td>36</td>\n",
              "      <td>33</td>\n",
              "      <td>33</td>\n",
              "      <td>01/02/2015</td>\n",
              "      <td>3</td>\n",
              "      <td>3</td>\n",
              "      <td>-0.9600</td>\n",
              "      <td>4922.6400</td>\n",
              "    </tr>\n",
              "    <tr>\n",
              "      <th>36</th>\n",
              "      <td>37</td>\n",
              "      <td>34</td>\n",
              "      <td>34</td>\n",
              "      <td>08/02/2015</td>\n",
              "      <td>1</td>\n",
              "      <td>1</td>\n",
              "      <td>200.2000</td>\n",
              "      <td>502.6000</td>\n",
              "    </tr>\n",
              "    <tr>\n",
              "      <th>37</th>\n",
              "      <td>38</td>\n",
              "      <td>21</td>\n",
              "      <td>35</td>\n",
              "      <td>09/02/2015</td>\n",
              "      <td>2</td>\n",
              "      <td>2</td>\n",
              "      <td>1982.3536</td>\n",
              "      <td>9199.9536</td>\n",
              "    </tr>\n",
              "    <tr>\n",
              "      <th>38</th>\n",
              "      <td>39</td>\n",
              "      <td>35</td>\n",
              "      <td>36</td>\n",
              "      <td>NaN</td>\n",
              "      <td>1</td>\n",
              "      <td>1</td>\n",
              "      <td>NaN</td>\n",
              "      <td>NaN</td>\n",
              "    </tr>\n",
              "    <tr>\n",
              "      <th>39</th>\n",
              "      <td>40</td>\n",
              "      <td>36</td>\n",
              "      <td>37</td>\n",
              "      <td>09/02/2015</td>\n",
              "      <td>2</td>\n",
              "      <td>2</td>\n",
              "      <td>3237.8000</td>\n",
              "      <td>10413.8000</td>\n",
              "    </tr>\n",
              "    <tr>\n",
              "      <th>40</th>\n",
              "      <td>41</td>\n",
              "      <td>37</td>\n",
              "      <td>38</td>\n",
              "      <td>10/02/2015</td>\n",
              "      <td>4</td>\n",
              "      <td>4</td>\n",
              "      <td>390.8000</td>\n",
              "      <td>3276.2000</td>\n",
              "    </tr>\n",
              "    <tr>\n",
              "      <th>41</th>\n",
              "      <td>42</td>\n",
              "      <td>38</td>\n",
              "      <td>39</td>\n",
              "      <td>11/02/2015</td>\n",
              "      <td>1</td>\n",
              "      <td>1</td>\n",
              "      <td>814.1936</td>\n",
              "      <td>1899.3936</td>\n",
              "    </tr>\n",
              "    <tr>\n",
              "      <th>42</th>\n",
              "      <td>43</td>\n",
              "      <td>39</td>\n",
              "      <td>40</td>\n",
              "      <td>14/02/2015</td>\n",
              "      <td>5</td>\n",
              "      <td>5</td>\n",
              "      <td>1001.6000</td>\n",
              "      <td>4411.6000</td>\n",
              "    </tr>\n",
              "    <tr>\n",
              "      <th>43</th>\n",
              "      <td>44</td>\n",
              "      <td>26</td>\n",
              "      <td>41</td>\n",
              "      <td>16/02/2015</td>\n",
              "      <td>4</td>\n",
              "      <td>4</td>\n",
              "      <td>2659.9080</td>\n",
              "      <td>10611.1080</td>\n",
              "    </tr>\n",
              "    <tr>\n",
              "      <th>44</th>\n",
              "      <td>45</td>\n",
              "      <td>23</td>\n",
              "      <td>42</td>\n",
              "      <td>16/02/2015</td>\n",
              "      <td>1</td>\n",
              "      <td>1</td>\n",
              "      <td>15.0000</td>\n",
              "      <td>795.0000</td>\n",
              "    </tr>\n",
              "    <tr>\n",
              "      <th>45</th>\n",
              "      <td>46</td>\n",
              "      <td>1</td>\n",
              "      <td>43</td>\n",
              "      <td>17/02/2015</td>\n",
              "      <td>3</td>\n",
              "      <td>3</td>\n",
              "      <td>1186.2000</td>\n",
              "      <td>4049.8000</td>\n",
              "    </tr>\n",
              "    <tr>\n",
              "      <th>46</th>\n",
              "      <td>47</td>\n",
              "      <td>21</td>\n",
              "      <td>44</td>\n",
              "      <td>23/02/2015</td>\n",
              "      <td>1</td>\n",
              "      <td>1</td>\n",
              "      <td>-0.6000</td>\n",
              "      <td>1578.4000</td>\n",
              "    </tr>\n",
              "    <tr>\n",
              "      <th>47</th>\n",
              "      <td>48</td>\n",
              "      <td>41</td>\n",
              "      <td>45</td>\n",
              "      <td>24/02/2015</td>\n",
              "      <td>3</td>\n",
              "      <td>3</td>\n",
              "      <td>3245.1504</td>\n",
              "      <td>11818.1504</td>\n",
              "    </tr>\n",
              "    <tr>\n",
              "      <th>48</th>\n",
              "      <td>49</td>\n",
              "      <td>32</td>\n",
              "      <td>46</td>\n",
              "      <td>NaN</td>\n",
              "      <td>1</td>\n",
              "      <td>1</td>\n",
              "      <td>-1217.9200</td>\n",
              "      <td>1074.4800</td>\n",
              "    </tr>\n",
              "    <tr>\n",
              "      <th>49</th>\n",
              "      <td>50</td>\n",
              "      <td>40</td>\n",
              "      <td>46</td>\n",
              "      <td>24/02/2015</td>\n",
              "      <td>1</td>\n",
              "      <td>1</td>\n",
              "      <td>-859.7600</td>\n",
              "      <td>1432.6400</td>\n",
              "    </tr>\n",
              "  </tbody>\n",
              "</table>\n",
              "</div>"
            ],
            "text/plain": [
              "    ID_Pedido  ID_Loja  ID_Cliente  ... Quantidade_Envios      Lucro      Vendas\n",
              "0           1        1           1  ...                 1   448.8000   1952.0000\n",
              "1           2        3           5  ...                 2  6380.0000  17974.0000\n",
              "2           3        6           4  ...                 2   627.0824   3881.0824\n",
              "3           4        4           3  ...                 1    36.0000   1857.6000\n",
              "4           5        5           2  ...                 2    91.2000    761.0000\n",
              "5           6        2           3  ...                 1 -1078.5600    743.0400\n",
              "6           7        7           6  ...                 1  9993.6000  30288.0000\n",
              "7           8        8           7  ...                 2    84.0000    615.8000\n",
              "8           9        9           8  ...                 2  2028.2000   4466.0000\n",
              "9          10       10          10  ...                 2   586.4000   1299.2000\n",
              "10         11       11           9  ...                 1 -2787.9024   4252.4976\n",
              "11         12       12          11  ...                 4  2508.0000  21587.0000\n",
              "12         13       13          12  ...                 2  2468.4852   8800.2852\n",
              "13         14       14          13  ...                 1  1006.2000   2012.6000\n",
              "14         15       15          14  ...                 1   -80.0000    264.0000\n",
              "15         16       17          15  ...                 4  2256.6000   8143.0000\n",
              "16         17       16          16  ...                 1   189.6000   1055.2000\n",
              "17         18       18          17  ...                 1   232.2000   2654.4000\n",
              "18         19       19          18  ...                 1  2517.1124  14115.5124\n",
              "19         20       20          19  ...                 1    61.2000    384.0000\n",
              "20         21       17          20  ...                 3  2722.0000   9951.2000\n",
              "21         22       22          22  ...                 1   818.8000   3722.8000\n",
              "22         23       21          21  ...                 1  -342.5200   1956.4800\n",
              "23         24       23          23  ...                 6  2140.6800  35705.6800\n",
              "24         25       25          24  ...                 1  1011.6000   2594.4000\n",
              "25         26       24          25  ...                 2   272.0000   3282.0000\n",
              "26         27       23          26  ...                 5  6213.0000  21200.8000\n",
              "27         28       27          15  ...                 1   101.2000    317.2000\n",
              "28         29       26          27  ...                 1    59.8000    176.4000\n",
              "29         30       29          28  ...                 1    72.6000    345.6000\n",
              "30         31       28          29  ...                 2   239.4000   1461.2000\n",
              "31         32       30          30  ...                 1 -4680.1600   4926.2400\n",
              "32         33       31          30  ...                 1 -5911.7200   3694.6800\n",
              "33         34       17          31  ...                 1   126.6000    352.2000\n",
              "34         35       32          32  ...                 2  -274.4400   1151.3600\n",
              "35         36       33          33  ...                 3    -0.9600   4922.6400\n",
              "36         37       34          34  ...                 1   200.2000    502.6000\n",
              "37         38       21          35  ...                 2  1982.3536   9199.9536\n",
              "38         39       35          36  ...                 1        NaN         NaN\n",
              "39         40       36          37  ...                 2  3237.8000  10413.8000\n",
              "40         41       37          38  ...                 4   390.8000   3276.2000\n",
              "41         42       38          39  ...                 1   814.1936   1899.3936\n",
              "42         43       39          40  ...                 5  1001.6000   4411.6000\n",
              "43         44       26          41  ...                 4  2659.9080  10611.1080\n",
              "44         45       23          42  ...                 1    15.0000    795.0000\n",
              "45         46        1          43  ...                 3  1186.2000   4049.8000\n",
              "46         47       21          44  ...                 1    -0.6000   1578.4000\n",
              "47         48       41          45  ...                 3  3245.1504  11818.1504\n",
              "48         49       32          46  ...                 1 -1217.9200   1074.4800\n",
              "49         50       40          46  ...                 1  -859.7600   1432.6400\n",
              "\n",
              "[50 rows x 8 columns]"
            ]
          },
          "metadata": {
            "tags": []
          },
          "execution_count": 71
        }
      ]
    },
    {
      "cell_type": "code",
      "metadata": {
        "colab": {
          "base_uri": "https://localhost:8080/"
        },
        "id": "qDyNdhMTkNJx",
        "outputId": "467657a2-59c1-4ada-9585-a320f2f35426"
      },
      "source": [
        "# Aplicamos o método .isnull() e o método .sum(), para poder contabilizar os Dados faltantes\n",
        "\n",
        "df_Pedidos.isnull().sum()"
      ],
      "execution_count": null,
      "outputs": [
        {
          "output_type": "execute_result",
          "data": {
            "text/plain": [
              "ID_Pedido            0\n",
              "ID_Loja              0\n",
              "ID_Cliente           0\n",
              "Data_Compra          2\n",
              "Quantidade_Itens     0\n",
              "Quantidade_Envios    0\n",
              "Lucro                1\n",
              "Vendas               1\n",
              "dtype: int64"
            ]
          },
          "metadata": {
            "tags": []
          },
          "execution_count": 72
        }
      ]
    },
    {
      "cell_type": "code",
      "metadata": {
        "colab": {
          "base_uri": "https://localhost:8080/"
        },
        "id": "dRv-UewHBXpU",
        "outputId": "e925fc8a-4eef-435a-8750-84fb14c82a73"
      },
      "source": [
        "# Vou vizualizar onde estão o 4 valores faltantes, especificamente na coluna \"Data_Compra\"\n",
        "\n",
        "df_Pedidos.loc[df_Pedidos['Data_Compra'].isnull(), :]"
      ],
      "execution_count": null,
      "outputs": [
        {
          "output_type": "execute_result",
          "data": {
            "text/html": [
              "<div>\n",
              "<style scoped>\n",
              "    .dataframe tbody tr th:only-of-type {\n",
              "        vertical-align: middle;\n",
              "    }\n",
              "\n",
              "    .dataframe tbody tr th {\n",
              "        vertical-align: top;\n",
              "    }\n",
              "\n",
              "    .dataframe thead th {\n",
              "        text-align: right;\n",
              "    }\n",
              "</style>\n",
              "<table border=\"1\" class=\"dataframe\">\n",
              "  <thead>\n",
              "    <tr style=\"text-align: right;\">\n",
              "      <th></th>\n",
              "      <th>ID_Pedido</th>\n",
              "      <th>ID_Loja</th>\n",
              "      <th>ID_Cliente</th>\n",
              "      <th>Data_Compra</th>\n",
              "      <th>Quantidade_Itens</th>\n",
              "      <th>Quantidade_Envios</th>\n",
              "      <th>Lucro</th>\n",
              "      <th>Vendas</th>\n",
              "    </tr>\n",
              "  </thead>\n",
              "  <tbody>\n",
              "    <tr>\n",
              "      <th>38</th>\n",
              "      <td>39</td>\n",
              "      <td>35</td>\n",
              "      <td>36</td>\n",
              "      <td>NaN</td>\n",
              "      <td>1</td>\n",
              "      <td>1</td>\n",
              "      <td>NaN</td>\n",
              "      <td>NaN</td>\n",
              "    </tr>\n",
              "    <tr>\n",
              "      <th>48</th>\n",
              "      <td>49</td>\n",
              "      <td>32</td>\n",
              "      <td>46</td>\n",
              "      <td>NaN</td>\n",
              "      <td>1</td>\n",
              "      <td>1</td>\n",
              "      <td>-1217.92</td>\n",
              "      <td>1074.48</td>\n",
              "    </tr>\n",
              "  </tbody>\n",
              "</table>\n",
              "</div>"
            ],
            "text/plain": [
              "    ID_Pedido  ID_Loja  ID_Cliente  ... Quantidade_Envios    Lucro   Vendas\n",
              "38         39       35          36  ...                 1      NaN      NaN\n",
              "48         49       32          46  ...                 1 -1217.92  1074.48\n",
              "\n",
              "[2 rows x 8 columns]"
            ]
          },
          "metadata": {
            "tags": []
          },
          "execution_count": 73
        }
      ]
    },
    {
      "cell_type": "code",
      "metadata": {
        "colab": {
          "base_uri": "https://localhost:8080/"
        },
        "id": "AC6s8Z5c2OYE",
        "outputId": "6a046985-1bd7-4d70-be42-669de5a08b0c"
      },
      "source": [
        "# Podemos visualizar nossos Dados faltantes num gráfico de barras\n",
        "\n",
        "plt.figure(figsize=(10, 5))\n",
        "sns.set_style('whitegrid')\n",
        "plt.bar(df_Pedidos.columns, df_Pedidos.isna().sum(), color='blue')\n",
        "plt.xlabel(\"Nome das colunas\")\n",
        "plt.ylabel(\"Número de valores ausentes nos Dados: df_Pedidos \")\n",
        "plt.xticks(rotation=45)\n",
        "plt.show()"
      ],
      "execution_count": null,
      "outputs": [
        {
          "output_type": "display_data",
          "data": {
            "image/png": "[encoded data removed]",
            "text/plain": [
              "<Figure size 720x360 with 1 Axes>"
            ]
          },
          "metadata": {
            "tags": [],
            "needs_background": "light"
          }
        }
      ]
    },
    {
      "cell_type": "code",
      "metadata": {
        "id": "vNgwZp8ufxZw"
      },
      "source": [
        "# Primeiro preenchemos a \"Data_Compra\"\n",
        "# Tinha pensado usar: df.fillna(method='ffill') --> propagar valores no nulos hacia adelante o hacia atrás\n",
        "\n",
        "df_Pedidos['Data_Compra'][df_Pedidos['ID_Pedido']==39]='09/02/2015'\n",
        "df_Pedidos['Data_Compra'][df_Pedidos['ID_Pedido']==49]='24/02/2015'"
      ],
      "execution_count": null,
      "outputs": []
    },
    {
      "cell_type": "code",
      "metadata": {
        "id": "X8llLPVMvdTb"
      },
      "source": [
        "# Seguidamente vamos a eliminar a linha onde falta tanto o valor de LUCRO e o valor de VENDA (ambas na mesma linha)\n",
        "\n",
        "# O método abaixo remove todas as linhas que contém um Dado faltante:\n",
        "df_Pedidos.dropna(inplace=True)\n"
      ],
      "execution_count": null,
      "outputs": []
    },
    {
      "cell_type": "code",
      "metadata": {
        "colab": {
          "base_uri": "https://localhost:8080/"
        },
        "id": "L0rtl5Vty0LV",
        "outputId": "6fcb6b77-33b1-433b-87c2-5eb640a10f91"
      },
      "source": [
        "# Verificamos novamente nossos Dados\n",
        "\n",
        "df_Pedidos.isnull().sum()"
      ],
      "execution_count": null,
      "outputs": [
        {
          "output_type": "execute_result",
          "data": {
            "text/plain": [
              "ID_Pedido            0\n",
              "ID_Loja              0\n",
              "ID_Cliente           0\n",
              "Data_Compra          0\n",
              "Quantidade_Itens     0\n",
              "Quantidade_Envios    0\n",
              "Lucro                0\n",
              "Vendas               0\n",
              "dtype: int64"
            ]
          },
          "metadata": {
            "tags": []
          },
          "execution_count": 77
        }
      ]
    },
    {
      "cell_type": "code",
      "metadata": {
        "id": "STk1pr3-DSav"
      },
      "source": [
        "df_Pedidos = df_Pedidos.drop_duplicates()"
      ],
      "execution_count": null,
      "outputs": []
    },
    {
      "cell_type": "code",
      "metadata": {
        "id": "ag3TRuFSX8K4"
      },
      "source": [
        "# Exportando para um arquivo excel\n",
        "\n",
        "df_Pedidos.to_excel(\"Pedidos1.xlsx\", index=False)"
      ],
      "execution_count": null,
      "outputs": []
    },
    {
      "cell_type": "code",
      "metadata": {
        "colab": {
          "base_uri": "https://localhost:8080/"
        },
        "id": "seCiOH6p4h9d",
        "outputId": "37d88fbc-5762-4036-d385-6187f4edbc97"
      },
      "source": [
        "df_Pedidos.info()"
      ],
      "execution_count": null,
      "outputs": [
        {
          "output_type": "stream",
          "text": [
            "<class 'pandas.core.frame.DataFrame'>\n",
            "Int64Index: 5144 entries, 0 to 5144\n",
            "Data columns (total 8 columns):\n",
            " #   Column             Non-Null Count  Dtype  \n",
            "---  ------             --------------  -----  \n",
            " 0   ID_Pedido          5144 non-null   int64  \n",
            " 1   ID_Loja            5144 non-null   int64  \n",
            " 2   ID_Cliente         5144 non-null   int64  \n",
            " 3   Data_Compra        5144 non-null   object \n",
            " 4   Quantidade_Itens   5144 non-null   int64  \n",
            " 5   Quantidade_Envios  5144 non-null   int64  \n",
            " 6   Lucro              5144 non-null   float64\n",
            " 7   Vendas             5144 non-null   float64\n",
            "dtypes: float64(2), int64(5), object(1)\n",
            "memory usage: 361.7+ KB\n"
          ],
          "name": "stdout"
        }
      ]
    },
    {
      "cell_type": "markdown",
      "metadata": {
        "id": "3aWa_A_6Mu5-"
      },
      "source": [
        "Tratamento para **df_Pedidos_Pagamento**:"
      ]
    },
    {
      "cell_type": "code",
      "metadata": {
        "id": "3zh9JJDfM4ks"
      },
      "source": [
        "df_Pedidos_Pagamento = df_Pedidos_Pagamento.drop_duplicates()"
      ],
      "execution_count": null,
      "outputs": []
    },
    {
      "cell_type": "code",
      "metadata": {
        "id": "DFmWKxGfZici"
      },
      "source": [
        "# Exportando para um arquivo excel\n",
        "\n",
        "df_Pedidos_Pagamento.to_excel(\"Pedidos_Pagamento1.xlsx\", index=False)"
      ],
      "execution_count": null,
      "outputs": []
    },
    {
      "cell_type": "code",
      "metadata": {
        "colab": {
          "base_uri": "https://localhost:8080/"
        },
        "id": "BxQsM9caNaA8",
        "outputId": "5f2ec650-3596-437b-d4e4-444604364e22"
      },
      "source": [
        "df_Pedidos_Pagamento.info()"
      ],
      "execution_count": null,
      "outputs": [
        {
          "output_type": "stream",
          "text": [
            "<class 'pandas.core.frame.DataFrame'>\n",
            "Int64Index: 9794 entries, 0 to 9793\n",
            "Data columns (total 4 columns):\n",
            " #   Column               Non-Null Count  Dtype  \n",
            "---  ------               --------------  -----  \n",
            " 0   ID_Pedido_Pagamento  9794 non-null   int64  \n",
            " 1   ID_Pedido            9794 non-null   int64  \n",
            " 2   ID_Forma_Pagamento   9794 non-null   int64  \n",
            " 3   Vendas               9794 non-null   float64\n",
            "dtypes: float64(1), int64(3)\n",
            "memory usage: 382.6 KB\n"
          ],
          "name": "stdout"
        }
      ]
    },
    {
      "cell_type": "markdown",
      "metadata": {
        "id": "HD7QNQv0M5BP"
      },
      "source": [
        "Tratamento para **df_Pedidos_Itens**:"
      ]
    },
    {
      "cell_type": "code",
      "metadata": {
        "id": "3E0MSv33NmUV"
      },
      "source": [
        "df_Pedidos_Itens = df_Pedidos_Itens.drop_duplicates()"
      ],
      "execution_count": null,
      "outputs": []
    },
    {
      "cell_type": "code",
      "metadata": {
        "id": "zUvAwzgYZ0VU"
      },
      "source": [
        "# Exportando para um arquivo excel\n",
        "\n",
        "df_Pedidos_Itens.to_excel(\"Pedidos_Itens1.xlsx\", index=False)"
      ],
      "execution_count": null,
      "outputs": []
    },
    {
      "cell_type": "code",
      "metadata": {
        "colab": {
          "base_uri": "https://localhost:8080/"
        },
        "id": "VmLEjiQsMuFH",
        "outputId": "3a00bfb0-4973-48b1-be44-9906377a67a3"
      },
      "source": [
        "df_Pedidos_Itens.info()"
      ],
      "execution_count": null,
      "outputs": [
        {
          "output_type": "stream",
          "text": [
            "<class 'pandas.core.frame.DataFrame'>\n",
            "Int64Index: 10281 entries, 0 to 10280\n",
            "Data columns (total 7 columns):\n",
            " #   Column      Non-Null Count  Dtype  \n",
            "---  ------      --------------  -----  \n",
            " 0   ID          10281 non-null  int64  \n",
            " 1   ID_Pedido   10281 non-null  int64  \n",
            " 2   ID_Item     10281 non-null  int64  \n",
            " 3   Quantidade  10281 non-null  int64  \n",
            " 4   Desconto    10281 non-null  float64\n",
            " 5   Lucro       10281 non-null  float64\n",
            " 6   Vendas      10281 non-null  float64\n",
            "dtypes: float64(3), int64(4)\n",
            "memory usage: 642.6 KB\n"
          ],
          "name": "stdout"
        }
      ]
    },
    {
      "cell_type": "markdown",
      "metadata": {
        "id": "uR3O8XMHNCLP"
      },
      "source": [
        "Tratamento para **df_Pedidos_Envios**:"
      ]
    },
    {
      "cell_type": "code",
      "metadata": {
        "id": "Pr71r5zENxq9"
      },
      "source": [
        "df_Pedidos_Envios = df_Pedidos_Envios.drop_duplicates()"
      ],
      "execution_count": null,
      "outputs": []
    },
    {
      "cell_type": "code",
      "metadata": {
        "id": "4P3sRADYaLK0"
      },
      "source": [
        "# Exportando para um arquivo excel\n",
        "\n",
        "df_Pedidos_Envios.to_excel(\"Pedidos_Envios1.xlsx\", index=False)"
      ],
      "execution_count": null,
      "outputs": []
    },
    {
      "cell_type": "code",
      "metadata": {
        "colab": {
          "base_uri": "https://localhost:8080/"
        },
        "id": "_lf13uf-N4m2",
        "outputId": "cfd538a6-0e4d-4b2c-f28b-cd0113d36004"
      },
      "source": [
        "df_Pedidos_Envios.info()"
      ],
      "execution_count": null,
      "outputs": [
        {
          "output_type": "stream",
          "text": [
            "<class 'pandas.core.frame.DataFrame'>\n",
            "Int64Index: 10283 entries, 0 to 10282\n",
            "Data columns (total 5 columns):\n",
            " #   Column          Non-Null Count  Dtype  \n",
            "---  ------          --------------  -----  \n",
            " 0   ID              10283 non-null  int64  \n",
            " 1   ID_Pedido_Item  10283 non-null  int64  \n",
            " 2   ID_Modo_Envio   10283 non-null  int64  \n",
            " 3   Data_Envio      10283 non-null  float64\n",
            " 4   Vendas          10283 non-null  float64\n",
            "dtypes: float64(2), int64(3)\n",
            "memory usage: 482.0 KB\n"
          ],
          "name": "stdout"
        }
      ]
    },
    {
      "cell_type": "markdown",
      "metadata": {
        "id": "cPfYEWUtZ1i3"
      },
      "source": [
        "# Parte 3 do Desafio"
      ]
    },
    {
      "cell_type": "markdown",
      "metadata": {
        "id": "iEWTw7PCDWbS"
      },
      "source": [
        "A. CARREGAMOS NOSSOS DADOS TRATADOS (LIMPOS)"
      ]
    },
    {
      "cell_type": "code",
      "metadata": {
        "id": "HkT5GzylZ5TV"
      },
      "source": [
        "#df = pd.read_excel(\"/content/drive/MyDrive/DESAFIO_(QI)3/BigStore_Sujo.xlsx\",sheet_name='Pedidos')\n",
        "\n",
        "df = pd.read_excel(\"/content/drive/MyDrive/DESAFIO_(QI)3/Pedidos1.xlsx\")"
      ],
      "execution_count": null,
      "outputs": []
    },
    {
      "cell_type": "code",
      "metadata": {
        "colab": {
          "base_uri": "https://localhost:8080/"
        },
        "id": "nMeCBSLJ4HV8",
        "outputId": "e1a0727a-4b62-42d4-fb28-6300338422fc"
      },
      "source": [
        "# Quantidade de entradas depopis de tratar nossos Dados\n",
        "# Chamei a meu arquivo de --> \"Pedidos1\"\n",
        "\n",
        "len(df)"
      ],
      "execution_count": null,
      "outputs": [
        {
          "output_type": "execute_result",
          "data": {
            "text/plain": [
              "5144"
            ]
          },
          "metadata": {
            "tags": []
          },
          "execution_count": 91
        }
      ]
    },
    {
      "cell_type": "code",
      "metadata": {
        "colab": {
          "base_uri": "https://localhost:8080/",
          "height": 194
        },
        "id": "tzu_E2tFaENn",
        "outputId": "28e5f41d-2234-4817-e010-be470a06c7f9"
      },
      "source": [
        "df.sample(5)"
      ],
      "execution_count": null,
      "outputs": [
        {
          "output_type": "execute_result",
          "data": {
            "text/html": [
              "<div>\n",
              "<style scoped>\n",
              "    .dataframe tbody tr th:only-of-type {\n",
              "        vertical-align: middle;\n",
              "    }\n",
              "\n",
              "    .dataframe tbody tr th {\n",
              "        vertical-align: top;\n",
              "    }\n",
              "\n",
              "    .dataframe thead th {\n",
              "        text-align: right;\n",
              "    }\n",
              "</style>\n",
              "<table border=\"1\" class=\"dataframe\">\n",
              "  <thead>\n",
              "    <tr style=\"text-align: right;\">\n",
              "      <th></th>\n",
              "      <th>ID_Pedido</th>\n",
              "      <th>ID_Loja</th>\n",
              "      <th>ID_Cliente</th>\n",
              "      <th>Data_Compra</th>\n",
              "      <th>Quantidade_Itens</th>\n",
              "      <th>Quantidade_Envios</th>\n",
              "      <th>Lucro</th>\n",
              "      <th>Vendas</th>\n",
              "    </tr>\n",
              "  </thead>\n",
              "  <tbody>\n",
              "    <tr>\n",
              "      <th>4383</th>\n",
              "      <td>4385</td>\n",
              "      <td>456</td>\n",
              "      <td>117</td>\n",
              "      <td>16/09/2018</td>\n",
              "      <td>3</td>\n",
              "      <td>3</td>\n",
              "      <td>2661.064</td>\n",
              "      <td>8673.264</td>\n",
              "    </tr>\n",
              "    <tr>\n",
              "      <th>2840</th>\n",
              "      <td>2842</td>\n",
              "      <td>300</td>\n",
              "      <td>66</td>\n",
              "      <td>20/09/2017</td>\n",
              "      <td>2</td>\n",
              "      <td>2</td>\n",
              "      <td>3503.400</td>\n",
              "      <td>9839.200</td>\n",
              "    </tr>\n",
              "    <tr>\n",
              "      <th>4675</th>\n",
              "      <td>4677</td>\n",
              "      <td>46</td>\n",
              "      <td>730</td>\n",
              "      <td>28/10/2018</td>\n",
              "      <td>7</td>\n",
              "      <td>7</td>\n",
              "      <td>779.400</td>\n",
              "      <td>4802.000</td>\n",
              "    </tr>\n",
              "    <tr>\n",
              "      <th>205</th>\n",
              "      <td>207</td>\n",
              "      <td>127</td>\n",
              "      <td>174</td>\n",
              "      <td>02/06/2015</td>\n",
              "      <td>1</td>\n",
              "      <td>1</td>\n",
              "      <td>232.400</td>\n",
              "      <td>3894.800</td>\n",
              "    </tr>\n",
              "    <tr>\n",
              "      <th>432</th>\n",
              "      <td>434</td>\n",
              "      <td>13</td>\n",
              "      <td>3</td>\n",
              "      <td>08/09/2015</td>\n",
              "      <td>1</td>\n",
              "      <td>1</td>\n",
              "      <td>36.000</td>\n",
              "      <td>516.000</td>\n",
              "    </tr>\n",
              "  </tbody>\n",
              "</table>\n",
              "</div>"
            ],
            "text/plain": [
              "      ID_Pedido  ID_Loja  ID_Cliente  ... Quantidade_Envios     Lucro    Vendas\n",
              "4383       4385      456         117  ...                 3  2661.064  8673.264\n",
              "2840       2842      300          66  ...                 2  3503.400  9839.200\n",
              "4675       4677       46         730  ...                 7   779.400  4802.000\n",
              "205         207      127         174  ...                 1   232.400  3894.800\n",
              "432         434       13           3  ...                 1    36.000   516.000\n",
              "\n",
              "[5 rows x 8 columns]"
            ]
          },
          "metadata": {
            "tags": []
          },
          "execution_count": 92
        }
      ]
    },
    {
      "cell_type": "code",
      "metadata": {
        "colab": {
          "base_uri": "https://localhost:8080/"
        },
        "id": "vAUhPzJoaoaw",
        "outputId": "7143f862-2426-4dc2-e265-d338f96a8a21"
      },
      "source": [
        "df.info()"
      ],
      "execution_count": null,
      "outputs": [
        {
          "output_type": "stream",
          "text": [
            "<class 'pandas.core.frame.DataFrame'>\n",
            "RangeIndex: 5144 entries, 0 to 5143\n",
            "Data columns (total 8 columns):\n",
            " #   Column             Non-Null Count  Dtype  \n",
            "---  ------             --------------  -----  \n",
            " 0   ID_Pedido          5144 non-null   int64  \n",
            " 1   ID_Loja            5144 non-null   int64  \n",
            " 2   ID_Cliente         5144 non-null   int64  \n",
            " 3   Data_Compra        5144 non-null   object \n",
            " 4   Quantidade_Itens   5144 non-null   int64  \n",
            " 5   Quantidade_Envios  5144 non-null   int64  \n",
            " 6   Lucro              5144 non-null   float64\n",
            " 7   Vendas             5144 non-null   float64\n",
            "dtypes: float64(2), int64(5), object(1)\n",
            "memory usage: 321.6+ KB\n"
          ],
          "name": "stdout"
        }
      ]
    },
    {
      "cell_type": "code",
      "metadata": {
        "colab": {
          "base_uri": "https://localhost:8080/"
        },
        "id": "w5XqDfbGa2LV",
        "outputId": "0d0f3f1d-090f-4bfe-9cae-59fb77ed6682"
      },
      "source": [
        "df.isnull().sum()"
      ],
      "execution_count": null,
      "outputs": [
        {
          "output_type": "execute_result",
          "data": {
            "text/plain": [
              "ID_Pedido            0\n",
              "ID_Loja              0\n",
              "ID_Cliente           0\n",
              "Data_Compra          0\n",
              "Quantidade_Itens     0\n",
              "Quantidade_Envios    0\n",
              "Lucro                0\n",
              "Vendas               0\n",
              "dtype: int64"
            ]
          },
          "metadata": {
            "tags": []
          },
          "execution_count": 94
        }
      ]
    },
    {
      "cell_type": "markdown",
      "metadata": {
        "id": "mHSjKpKoEOPu"
      },
      "source": [
        "B. GERANDO A MINHA TABELA DE FREQUÊNCIA POR VENDAS"
      ]
    },
    {
      "cell_type": "code",
      "metadata": {
        "id": "iNRLfc9IbQKd"
      },
      "source": [
        "# Criando a tabela\n",
        "df_fm = df.groupby('ID_Cliente').agg({'ID_Pedido': 'count', 'Vendas': 'sum'}).reset_index()\n",
        "\n",
        "# Renomeamos as colunas\n",
        "df_fm.rename(columns={'ID_Pedido': 'qtd_total_compras', 'Vendas': 'valor_total_gasto (R$)'}, inplace=True)"
      ],
      "execution_count": null,
      "outputs": []
    },
    {
      "cell_type": "code",
      "metadata": {
        "colab": {
          "base_uri": "https://localhost:8080/",
          "height": 194
        },
        "id": "V16Z0nk0bcpu",
        "outputId": "1ab70c6a-7ffe-48dd-a546-828372a62790"
      },
      "source": [
        "df_fm.head()"
      ],
      "execution_count": null,
      "outputs": [
        {
          "output_type": "execute_result",
          "data": {
            "text/html": [
              "<div>\n",
              "<style scoped>\n",
              "    .dataframe tbody tr th:only-of-type {\n",
              "        vertical-align: middle;\n",
              "    }\n",
              "\n",
              "    .dataframe tbody tr th {\n",
              "        vertical-align: top;\n",
              "    }\n",
              "\n",
              "    .dataframe thead th {\n",
              "        text-align: right;\n",
              "    }\n",
              "</style>\n",
              "<table border=\"1\" class=\"dataframe\">\n",
              "  <thead>\n",
              "    <tr style=\"text-align: right;\">\n",
              "      <th></th>\n",
              "      <th>ID_Cliente</th>\n",
              "      <th>qtd_total_compras</th>\n",
              "      <th>valor_total_gasto (R$)</th>\n",
              "    </tr>\n",
              "  </thead>\n",
              "  <tbody>\n",
              "    <tr>\n",
              "      <th>0</th>\n",
              "      <td>1</td>\n",
              "      <td>5</td>\n",
              "      <td>14083.2000</td>\n",
              "    </tr>\n",
              "    <tr>\n",
              "      <th>1</th>\n",
              "      <td>2</td>\n",
              "      <td>5</td>\n",
              "      <td>16730.9756</td>\n",
              "    </tr>\n",
              "    <tr>\n",
              "      <th>2</th>\n",
              "      <td>3</td>\n",
              "      <td>8</td>\n",
              "      <td>24423.3400</td>\n",
              "    </tr>\n",
              "    <tr>\n",
              "      <th>3</th>\n",
              "      <td>4</td>\n",
              "      <td>7</td>\n",
              "      <td>20161.5944</td>\n",
              "    </tr>\n",
              "    <tr>\n",
              "      <th>4</th>\n",
              "      <td>5</td>\n",
              "      <td>8</td>\n",
              "      <td>78031.5232</td>\n",
              "    </tr>\n",
              "  </tbody>\n",
              "</table>\n",
              "</div>"
            ],
            "text/plain": [
              "   ID_Cliente  qtd_total_compras  valor_total_gasto (R$)\n",
              "0           1                  5              14083.2000\n",
              "1           2                  5              16730.9756\n",
              "2           3                  8              24423.3400\n",
              "3           4                  7              20161.5944\n",
              "4           5                  8              78031.5232"
            ]
          },
          "metadata": {
            "tags": []
          },
          "execution_count": 96
        }
      ]
    },
    {
      "cell_type": "code",
      "metadata": {
        "colab": {
          "base_uri": "https://localhost:8080/",
          "height": 194
        },
        "id": "av5muBDQMkZ1",
        "outputId": "e3384986-3f07-486f-e2da-c3076155ec7b"
      },
      "source": [
        "# Verificando a contagem, \"qtd_total_compras\", da tabela anterior (para o cliente com \"ID_Cliente = 1\"):\n",
        "\n",
        "df.loc[df['ID_Cliente']==1, :]"
      ],
      "execution_count": null,
      "outputs": [
        {
          "output_type": "execute_result",
          "data": {
            "text/html": [
              "<div>\n",
              "<style scoped>\n",
              "    .dataframe tbody tr th:only-of-type {\n",
              "        vertical-align: middle;\n",
              "    }\n",
              "\n",
              "    .dataframe tbody tr th {\n",
              "        vertical-align: top;\n",
              "    }\n",
              "\n",
              "    .dataframe thead th {\n",
              "        text-align: right;\n",
              "    }\n",
              "</style>\n",
              "<table border=\"1\" class=\"dataframe\">\n",
              "  <thead>\n",
              "    <tr style=\"text-align: right;\">\n",
              "      <th></th>\n",
              "      <th>ID_Pedido</th>\n",
              "      <th>ID_Loja</th>\n",
              "      <th>ID_Cliente</th>\n",
              "      <th>Data_Compra</th>\n",
              "      <th>Quantidade_Itens</th>\n",
              "      <th>Quantidade_Envios</th>\n",
              "      <th>Lucro</th>\n",
              "      <th>Vendas</th>\n",
              "    </tr>\n",
              "  </thead>\n",
              "  <tbody>\n",
              "    <tr>\n",
              "      <th>0</th>\n",
              "      <td>1</td>\n",
              "      <td>1</td>\n",
              "      <td>1</td>\n",
              "      <td>03/01/2015</td>\n",
              "      <td>1</td>\n",
              "      <td>1</td>\n",
              "      <td>448.8</td>\n",
              "      <td>1952.0</td>\n",
              "    </tr>\n",
              "    <tr>\n",
              "      <th>802</th>\n",
              "      <td>804</td>\n",
              "      <td>60</td>\n",
              "      <td>1</td>\n",
              "      <td>14/12/2015</td>\n",
              "      <td>1</td>\n",
              "      <td>1</td>\n",
              "      <td>520.8</td>\n",
              "      <td>1063.2</td>\n",
              "    </tr>\n",
              "    <tr>\n",
              "      <th>2058</th>\n",
              "      <td>2060</td>\n",
              "      <td>456</td>\n",
              "      <td>1</td>\n",
              "      <td>15/02/2017</td>\n",
              "      <td>2</td>\n",
              "      <td>2</td>\n",
              "      <td>1185.8</td>\n",
              "      <td>3928.6</td>\n",
              "    </tr>\n",
              "    <tr>\n",
              "      <th>2935</th>\n",
              "      <td>2937</td>\n",
              "      <td>36</td>\n",
              "      <td>1</td>\n",
              "      <td>03/10/2017</td>\n",
              "      <td>1</td>\n",
              "      <td>1</td>\n",
              "      <td>692.0</td>\n",
              "      <td>1731.0</td>\n",
              "    </tr>\n",
              "    <tr>\n",
              "      <th>4997</th>\n",
              "      <td>4999</td>\n",
              "      <td>108</td>\n",
              "      <td>1</td>\n",
              "      <td>09/12/2018</td>\n",
              "      <td>3</td>\n",
              "      <td>3</td>\n",
              "      <td>748.2</td>\n",
              "      <td>5408.4</td>\n",
              "    </tr>\n",
              "  </tbody>\n",
              "</table>\n",
              "</div>"
            ],
            "text/plain": [
              "      ID_Pedido  ID_Loja  ID_Cliente  ... Quantidade_Envios   Lucro  Vendas\n",
              "0             1        1           1  ...                 1   448.8  1952.0\n",
              "802         804       60           1  ...                 1   520.8  1063.2\n",
              "2058       2060      456           1  ...                 2  1185.8  3928.6\n",
              "2935       2937       36           1  ...                 1   692.0  1731.0\n",
              "4997       4999      108           1  ...                 3   748.2  5408.4\n",
              "\n",
              "[5 rows x 8 columns]"
            ]
          },
          "metadata": {
            "tags": []
          },
          "execution_count": 97
        }
      ]
    },
    {
      "cell_type": "code",
      "metadata": {
        "colab": {
          "base_uri": "https://localhost:8080/",
          "height": 282
        },
        "id": "XwfZuDryI0_L",
        "outputId": "48c196b2-312e-4736-9ed8-dea35570fbc1"
      },
      "source": [
        "# Verificando a contagem, \"qtd_total_compras\", da tabela anterior (para o cliente com \"ID_Cliente = 5\"):\n",
        "\n",
        "df.loc[df['ID_Cliente']==5, :]"
      ],
      "execution_count": null,
      "outputs": [
        {
          "output_type": "execute_result",
          "data": {
            "text/html": [
              "<div>\n",
              "<style scoped>\n",
              "    .dataframe tbody tr th:only-of-type {\n",
              "        vertical-align: middle;\n",
              "    }\n",
              "\n",
              "    .dataframe tbody tr th {\n",
              "        vertical-align: top;\n",
              "    }\n",
              "\n",
              "    .dataframe thead th {\n",
              "        text-align: right;\n",
              "    }\n",
              "</style>\n",
              "<table border=\"1\" class=\"dataframe\">\n",
              "  <thead>\n",
              "    <tr style=\"text-align: right;\">\n",
              "      <th></th>\n",
              "      <th>ID_Pedido</th>\n",
              "      <th>ID_Loja</th>\n",
              "      <th>ID_Cliente</th>\n",
              "      <th>Data_Compra</th>\n",
              "      <th>Quantidade_Itens</th>\n",
              "      <th>Quantidade_Envios</th>\n",
              "      <th>Lucro</th>\n",
              "      <th>Vendas</th>\n",
              "    </tr>\n",
              "  </thead>\n",
              "  <tbody>\n",
              "    <tr>\n",
              "      <th>1</th>\n",
              "      <td>2</td>\n",
              "      <td>3</td>\n",
              "      <td>5</td>\n",
              "      <td>04/01/2015</td>\n",
              "      <td>2</td>\n",
              "      <td>2</td>\n",
              "      <td>6380.0000</td>\n",
              "      <td>17974.0000</td>\n",
              "    </tr>\n",
              "    <tr>\n",
              "      <th>412</th>\n",
              "      <td>414</td>\n",
              "      <td>191</td>\n",
              "      <td>5</td>\n",
              "      <td>30/08/2015</td>\n",
              "      <td>1</td>\n",
              "      <td>1</td>\n",
              "      <td>172.0832</td>\n",
              "      <td>1954.4832</td>\n",
              "    </tr>\n",
              "    <tr>\n",
              "      <th>688</th>\n",
              "      <td>690</td>\n",
              "      <td>267</td>\n",
              "      <td>5</td>\n",
              "      <td>15/11/2015</td>\n",
              "      <td>1</td>\n",
              "      <td>1</td>\n",
              "      <td>2000.4000</td>\n",
              "      <td>10002.6000</td>\n",
              "    </tr>\n",
              "    <tr>\n",
              "      <th>1721</th>\n",
              "      <td>1723</td>\n",
              "      <td>21</td>\n",
              "      <td>5</td>\n",
              "      <td>03/11/2016</td>\n",
              "      <td>3</td>\n",
              "      <td>3</td>\n",
              "      <td>-106.9200</td>\n",
              "      <td>10967.6800</td>\n",
              "    </tr>\n",
              "    <tr>\n",
              "      <th>3662</th>\n",
              "      <td>3664</td>\n",
              "      <td>65</td>\n",
              "      <td>5</td>\n",
              "      <td>01/04/2018</td>\n",
              "      <td>2</td>\n",
              "      <td>2</td>\n",
              "      <td>239.0800</td>\n",
              "      <td>3431.2800</td>\n",
              "    </tr>\n",
              "    <tr>\n",
              "      <th>4115</th>\n",
              "      <td>4117</td>\n",
              "      <td>32</td>\n",
              "      <td>5</td>\n",
              "      <td>11/07/2018</td>\n",
              "      <td>3</td>\n",
              "      <td>3</td>\n",
              "      <td>121.4800</td>\n",
              "      <td>2301.2800</td>\n",
              "    </tr>\n",
              "    <tr>\n",
              "      <th>4657</th>\n",
              "      <td>4659</td>\n",
              "      <td>620</td>\n",
              "      <td>5</td>\n",
              "      <td>25/10/2018</td>\n",
              "      <td>1</td>\n",
              "      <td>1</td>\n",
              "      <td>491.2000</td>\n",
              "      <td>24609.6000</td>\n",
              "    </tr>\n",
              "    <tr>\n",
              "      <th>4979</th>\n",
              "      <td>4981</td>\n",
              "      <td>118</td>\n",
              "      <td>5</td>\n",
              "      <td>04/12/2018</td>\n",
              "      <td>6</td>\n",
              "      <td>6</td>\n",
              "      <td>2180.2000</td>\n",
              "      <td>6790.6000</td>\n",
              "    </tr>\n",
              "  </tbody>\n",
              "</table>\n",
              "</div>"
            ],
            "text/plain": [
              "      ID_Pedido  ID_Loja  ID_Cliente  ... Quantidade_Envios      Lucro      Vendas\n",
              "1             2        3           5  ...                 2  6380.0000  17974.0000\n",
              "412         414      191           5  ...                 1   172.0832   1954.4832\n",
              "688         690      267           5  ...                 1  2000.4000  10002.6000\n",
              "1721       1723       21           5  ...                 3  -106.9200  10967.6800\n",
              "3662       3664       65           5  ...                 2   239.0800   3431.2800\n",
              "4115       4117       32           5  ...                 3   121.4800   2301.2800\n",
              "4657       4659      620           5  ...                 1   491.2000  24609.6000\n",
              "4979       4981      118           5  ...                 6  2180.2000   6790.6000\n",
              "\n",
              "[8 rows x 8 columns]"
            ]
          },
          "metadata": {
            "tags": []
          },
          "execution_count": 98
        }
      ]
    },
    {
      "cell_type": "code",
      "metadata": {
        "colab": {
          "base_uri": "https://localhost:8080/"
        },
        "id": "TCeQN-2MbgxV",
        "outputId": "6a903246-ef71-4d8d-c475-b593fc8af83b"
      },
      "source": [
        "df_fm.info()"
      ],
      "execution_count": null,
      "outputs": [
        {
          "output_type": "stream",
          "text": [
            "<class 'pandas.core.frame.DataFrame'>\n",
            "RangeIndex: 794 entries, 0 to 793\n",
            "Data columns (total 3 columns):\n",
            " #   Column                  Non-Null Count  Dtype  \n",
            "---  ------                  --------------  -----  \n",
            " 0   ID_Cliente              794 non-null    int64  \n",
            " 1   qtd_total_compras       794 non-null    int64  \n",
            " 2   valor_total_gasto (R$)  794 non-null    float64\n",
            "dtypes: float64(1), int64(2)\n",
            "memory usage: 18.7 KB\n"
          ],
          "name": "stdout"
        }
      ]
    },
    {
      "cell_type": "markdown",
      "metadata": {
        "id": "vsdHeC2QPW-h"
      },
      "source": [
        "C. FAZEMOS UM ESCALONAMENTO DE NOSSOS DADOS\n",
        "\n",
        "Melhor dito, vamos a ``escalar`` as colunas \"qtd_total_compras\" e\t\"valor_total_gasto (R$)\"."
      ]
    },
    {
      "cell_type": "code",
      "metadata": {
        "id": "z1vn_8hYb-Lv"
      },
      "source": [
        "# Já foi exportado a biblioteca acima --> from sklearn.preprocessing import StandardScaler\n",
        "# https://scikit-learn.org/stable/modules/preprocessing.html\n",
        "\n",
        "scaler = StandardScaler()\n",
        "X = df_fm.iloc[:, [1,2]]\n",
        "X = scaler.fit_transform(X)"
      ],
      "execution_count": null,
      "outputs": []
    },
    {
      "cell_type": "code",
      "metadata": {
        "colab": {
          "base_uri": "https://localhost:8080/"
        },
        "id": "KwcyxXgWcAKt",
        "outputId": "00caa402-e633-4c11-d9cc-dc792627c76a"
      },
      "source": [
        "print(X)"
      ],
      "execution_count": null,
      "outputs": [
        {
          "output_type": "stream",
          "text": [
            "[[-0.56508358 -0.73592491]\n",
            " [-0.56508358 -0.58802085]\n",
            " [ 0.58144886 -0.15832735]\n",
            " ...\n",
            " [-2.09379351 -1.48968288]\n",
            " [-1.71161602 -1.33978375]\n",
            " [-2.09379351 -1.47116202]]\n"
          ],
          "name": "stdout"
        }
      ]
    },
    {
      "cell_type": "code",
      "metadata": {
        "colab": {
          "base_uri": "https://localhost:8080/"
        },
        "id": "ncptiBaFNS3v",
        "outputId": "ace875e6-959f-4dcc-8fba-2c1db62a0d55"
      },
      "source": [
        "# Média zero\n",
        "X.mean(axis=0)\n"
      ],
      "execution_count": null,
      "outputs": [
        {
          "output_type": "execute_result",
          "data": {
            "text/plain": [
              "array([-1.07386811e-16, -1.61080217e-16])"
            ]
          },
          "metadata": {
            "tags": []
          },
          "execution_count": 102
        }
      ]
    },
    {
      "cell_type": "code",
      "metadata": {
        "colab": {
          "base_uri": "https://localhost:8080/"
        },
        "id": "agq8rI9oNsq0",
        "outputId": "779a9600-d5e5-4ab1-82f9-dbe1ebd7af17"
      },
      "source": [
        "# Desvio padrão igual a um\n",
        "X.std(axis=0)"
      ],
      "execution_count": null,
      "outputs": [
        {
          "output_type": "execute_result",
          "data": {
            "text/plain": [
              "array([1., 1.])"
            ]
          },
          "metadata": {
            "tags": []
          },
          "execution_count": 103
        }
      ]
    },
    {
      "cell_type": "markdown",
      "metadata": {
        "id": "AInZVzXzRUhb"
      },
      "source": [
        "D. CLUSTERIZAÇÃO (sinônimos: AGRUPAMENTO, SEGMENTAÇÃO)\n",
        "\n",
        "A seguir vamos a calcular o número ideal de cluster utilizando o [Elbow Method](https://medium.com/pizzadedados/kmeans-e-metodo-do-cotovelo-94ded9fdf3a9).\n",
        "\n",
        "\\\\\n",
        "\n",
        "**NOTA:**\n",
        "\n",
        "O ``KMeans`` calcula a distância das observações até o centro do agrupamento que ela pertence, o ideal é que essa distância seja a menor viável. Matematicamente falando, nós estamos buscando uma quantidade de agrupamentos em que a soma dos quadrados intra-clusters (ou do inglês within-clusters sum-of-squares, comumente abreviado para ``wcss``) seja a menor possível, sendo zero o resultado ótimo."
      ]
    },
    {
      "cell_type": "code",
      "metadata": {
        "id": "ZthSrlNbdLs3"
      },
      "source": [
        "wcss = []\n",
        "for i in range(1, 11):\n",
        "  kmeans = KMeans(n_clusters=i, random_state=0)\n",
        "  kmeans.fit(X)\n",
        "  wcss.append(kmeans.inertia_)"
      ],
      "execution_count": null,
      "outputs": []
    },
    {
      "cell_type": "code",
      "metadata": {
        "colab": {
          "base_uri": "https://localhost:8080/"
        },
        "id": "1TPv9BD-acxb",
        "outputId": "34bca3ba-fadc-4c15-e8ae-6409a5728a7d"
      },
      "source": [
        "print(wcss)"
      ],
      "execution_count": null,
      "outputs": [
        {
          "output_type": "stream",
          "text": [
            "[1587.9999999999998, 782.8077850673453, 549.8736896536063, 434.30555444050754, 342.053770141351, 293.31967820130325, 252.70598757557337, 228.20450764695929, 203.7841623395428, 184.9865357942225]\n"
          ],
          "name": "stdout"
        }
      ]
    },
    {
      "cell_type": "code",
      "metadata": {
        "colab": {
          "base_uri": "https://localhost:8080/",
          "height": 279
        },
        "id": "lagDppRudNgo",
        "outputId": "939a956d-7606-4c47-e1f1-a43c91a09ad1"
      },
      "source": [
        "# Plotamos um gráfico para identificar o melhor \"n_clusters\"\n",
        "\n",
        "plt.figure(figsize=(8,4))\n",
        "plt.plot(range(1, 11), wcss, marker='s')\n",
        "plt.xlabel('Número de clusters')\n",
        "plt.show()"
      ],
      "execution_count": null,
      "outputs": [
        {
          "output_type": "display_data",
          "data": {
            "image/png": "[encoded data removed]",
            "text/plain": [
              "<Figure size 576x288 with 1 Axes>"
            ]
          },
          "metadata": {
            "tags": []
          }
        }
      ]
    },
    {
      "cell_type": "markdown",
      "metadata": {
        "id": "hKe2IQdRdZYD"
      },
      "source": [
        "A partir do gráfico podemos considerar $5$ grupos de clientes. Agrupando os dados em X temos:"
      ]
    },
    {
      "cell_type": "code",
      "metadata": {
        "id": "JmdvfepkdXT4"
      },
      "source": [
        "kmeans = KMeans(n_clusters=5, random_state=0)\n",
        "previsoes = kmeans.fit_predict(X)"
      ],
      "execution_count": null,
      "outputs": []
    },
    {
      "cell_type": "code",
      "metadata": {
        "colab": {
          "base_uri": "https://localhost:8080/"
        },
        "id": "cKRBI1Ezdfm1",
        "outputId": "5692b207-d4e3-4aaf-e323-b2d575b06b12"
      },
      "source": [
        "print(previsoes)"
      ],
      "execution_count": null,
      "outputs": [
        {
          "output_type": "stream",
          "text": [
            "[3 3 2 3 1 1 3 0 2 2 2 3 1 2 2 2 1 0 0 2 0 3 0 1 2 1 0 3 1 2 0 1 2 2 4 1 3\n",
            " 3 3 2 0 3 0 2 0 2 3 4 0 0 1 3 0 3 0 4 2 0 3 0 3 4 2 3 3 4 2 1 2 3 2 2 3 1\n",
            " 2 1 3 4 0 3 0 1 3 0 0 3 3 3 1 3 2 4 2 0 3 3 0 2 0 3 2 4 4 4 4 0 2 3 3 3 1\n",
            " 4 3 3 1 1 1 2 3 0 2 2 4 1 1 3 3 3 1 0 2 4 4 1 3 3 0 0 1 2 3 3 2 4 2 2 3 3\n",
            " 3 4 0 2 3 1 4 0 1 2 0 2 3 3 3 0 2 0 0 3 2 2 2 3 3 3 0 3 0 4 4 1 4 2 1 2 4\n",
            " 4 0 2 3 4 0 1 3 2 3 2 2 1 2 4 3 3 2 2 2 3 0 2 1 3 2 3 2 3 3 3 2 2 1 4 0 4\n",
            " 1 2 3 2 1 2 0 1 4 0 2 3 3 4 3 3 3 2 2 3 3 2 3 3 0 3 4 2 2 2 2 4 4 0 2 3 2\n",
            " 2 1 0 3 2 0 1 1 2 3 0 3 2 1 4 0 1 3 2 2 2 3 0 0 4 3 4 2 3 0 4 4 3 0 3 2 3\n",
            " 0 2 3 0 3 3 1 2 3 4 0 4 4 4 4 3 2 0 2 0 4 3 2 2 2 1 3 3 3 3 2 2 0 0 0 0 4\n",
            " 0 4 3 0 2 3 4 3 0 0 4 2 4 0 4 2 3 4 3 4 0 3 2 2 2 3 2 3 2 0 4 4 4 0 3 3 4\n",
            " 1 3 4 1 3 3 2 1 3 3 2 4 3 2 2 4 4 2 1 2 1 2 3 2 2 3 2 3 3 3 3 4 2 0 0 4 3\n",
            " 3 4 1 2 3 4 1 4 0 4 1 1 1 1 0 2 3 2 2 4 0 0 4 3 2 3 2 3 1 3 3 3 0 3 4 0 4\n",
            " 1 4 3 4 3 3 3 3 2 3 4 0 3 2 4 3 0 3 3 3 1 3 0 4 3 1 3 4 4 4 3 2 0 0 3 2 3\n",
            " 0 2 3 2 0 2 3 4 4 3 3 2 4 3 4 4 0 3 3 2 4 1 2 4 2 3 4 3 4 2 4 1 3 4 3 0 4\n",
            " 1 0 3 4 3 0 3 2 2 3 4 3 0 4 0 2 3 1 0 0 2 0 0 4 2 2 3 2 3 3 2 2 3 3 0 1 3\n",
            " 2 2 3 2 0 3 3 2 0 2 0 1 2 0 1 1 3 3 3 3 3 2 4 3 1 2 3 1 0 1 0 3 4 0 3 4 4\n",
            " 0 2 4 2 4 2 4 2 2 2 3 4 3 3 0 4 4 3 4 3 4 4 4 4 4 0 2 3 1 3 3 3 1 1 0 3 3\n",
            " 3 3 0 4 4 4 2 3 1 0 3 4 3 4 3 4 4 2 3 0 3 3 0 4 4 2 3 1 3 4 0 3 3 0 0 2 4\n",
            " 4 0 3 4 0 2 0 4 4 0 3 3 2 3 4 1 3 4 2 3 3 4 4 4 4 3 2 3 4 2 3 3 4 1 3 4 4\n",
            " 3 3 3 4 3 4 4 3 4 4 3 4 4 4 3 3 4 4 2 3 3 4 3 4 3 4 3 4 4 0 4 3 3 4 3 4 4\n",
            " 3 4 4 4 4 3 4 4 4 4 4 4 0 3 3 4 4 4 4 4 3 4 3 4 4 4 4 4 4 4 3 0 4 0 4 0 4\n",
            " 3 0 3 3 4 4 4 4 4 4 3 4 4 4 4 4 4]\n"
          ],
          "name": "stdout"
        }
      ]
    },
    {
      "cell_type": "code",
      "metadata": {
        "id": "RtYBEX43dkLO"
      },
      "source": [
        "df_fm['grupos'] = previsoes"
      ],
      "execution_count": null,
      "outputs": []
    },
    {
      "cell_type": "code",
      "metadata": {
        "colab": {
          "base_uri": "https://localhost:8080/",
          "height": 340
        },
        "id": "X1XpTCwVdl8e",
        "outputId": "6e96fa1c-b170-4f9e-89b1-4a46e2762b67"
      },
      "source": [
        "df_fm.head(10)"
      ],
      "execution_count": null,
      "outputs": [
        {
          "output_type": "execute_result",
          "data": {
            "text/html": [
              "<div>\n",
              "<style scoped>\n",
              "    .dataframe tbody tr th:only-of-type {\n",
              "        vertical-align: middle;\n",
              "    }\n",
              "\n",
              "    .dataframe tbody tr th {\n",
              "        vertical-align: top;\n",
              "    }\n",
              "\n",
              "    .dataframe thead th {\n",
              "        text-align: right;\n",
              "    }\n",
              "</style>\n",
              "<table border=\"1\" class=\"dataframe\">\n",
              "  <thead>\n",
              "    <tr style=\"text-align: right;\">\n",
              "      <th></th>\n",
              "      <th>ID_Cliente</th>\n",
              "      <th>qtd_total_compras</th>\n",
              "      <th>valor_total_gasto (R$)</th>\n",
              "      <th>grupos</th>\n",
              "    </tr>\n",
              "  </thead>\n",
              "  <tbody>\n",
              "    <tr>\n",
              "      <th>0</th>\n",
              "      <td>1</td>\n",
              "      <td>5</td>\n",
              "      <td>14083.2000</td>\n",
              "      <td>3</td>\n",
              "    </tr>\n",
              "    <tr>\n",
              "      <th>1</th>\n",
              "      <td>2</td>\n",
              "      <td>5</td>\n",
              "      <td>16730.9756</td>\n",
              "      <td>3</td>\n",
              "    </tr>\n",
              "    <tr>\n",
              "      <th>2</th>\n",
              "      <td>3</td>\n",
              "      <td>8</td>\n",
              "      <td>24423.3400</td>\n",
              "      <td>2</td>\n",
              "    </tr>\n",
              "    <tr>\n",
              "      <th>3</th>\n",
              "      <td>4</td>\n",
              "      <td>7</td>\n",
              "      <td>20161.5944</td>\n",
              "      <td>3</td>\n",
              "    </tr>\n",
              "    <tr>\n",
              "      <th>4</th>\n",
              "      <td>5</td>\n",
              "      <td>8</td>\n",
              "      <td>78031.5232</td>\n",
              "      <td>1</td>\n",
              "    </tr>\n",
              "    <tr>\n",
              "      <th>5</th>\n",
              "      <td>6</td>\n",
              "      <td>12</td>\n",
              "      <td>63875.2800</td>\n",
              "      <td>1</td>\n",
              "    </tr>\n",
              "    <tr>\n",
              "      <th>6</th>\n",
              "      <td>7</td>\n",
              "      <td>6</td>\n",
              "      <td>10226.1680</td>\n",
              "      <td>3</td>\n",
              "    </tr>\n",
              "    <tr>\n",
              "      <th>7</th>\n",
              "      <td>8</td>\n",
              "      <td>6</td>\n",
              "      <td>49024.2952</td>\n",
              "      <td>0</td>\n",
              "    </tr>\n",
              "    <tr>\n",
              "      <th>8</th>\n",
              "      <td>9</td>\n",
              "      <td>8</td>\n",
              "      <td>18726.8976</td>\n",
              "      <td>2</td>\n",
              "    </tr>\n",
              "    <tr>\n",
              "      <th>9</th>\n",
              "      <td>10</td>\n",
              "      <td>9</td>\n",
              "      <td>25734.0740</td>\n",
              "      <td>2</td>\n",
              "    </tr>\n",
              "  </tbody>\n",
              "</table>\n",
              "</div>"
            ],
            "text/plain": [
              "   ID_Cliente  qtd_total_compras  valor_total_gasto (R$)  grupos\n",
              "0           1                  5              14083.2000       3\n",
              "1           2                  5              16730.9756       3\n",
              "2           3                  8              24423.3400       2\n",
              "3           4                  7              20161.5944       3\n",
              "4           5                  8              78031.5232       1\n",
              "5           6                 12              63875.2800       1\n",
              "6           7                  6              10226.1680       3\n",
              "7           8                  6              49024.2952       0\n",
              "8           9                  8              18726.8976       2\n",
              "9          10                  9              25734.0740       2"
            ]
          },
          "metadata": {
            "tags": []
          },
          "execution_count": 110
        }
      ]
    },
    {
      "cell_type": "markdown",
      "metadata": {
        "id": "K2a2GGSidu-K"
      },
      "source": [
        "E. PLOTAMOS OS GRUPOS"
      ]
    },
    {
      "cell_type": "code",
      "metadata": {
        "colab": {
          "base_uri": "https://localhost:8080/",
          "height": 335
        },
        "id": "uJLDLIeDdx97",
        "outputId": "8c51700a-320e-4419-b7c8-2a9e0d9ff7c5"
      },
      "source": [
        "# Utilizamos novamente a biblioteca seaborn\n",
        "\n",
        "plt.figure(figsize=(10, 5))\n",
        "sns.scatterplot(data=df_fm, x='qtd_total_compras', y='valor_total_gasto (R$)', hue='grupos')\n",
        "plt.show()"
      ],
      "execution_count": null,
      "outputs": [
        {
          "output_type": "display_data",
          "data": {
            "image/png": "[encoded data removed]",
            "text/plain": [
              "<Figure size 720x360 with 1 Axes>"
            ]
          },
          "metadata": {
            "tags": []
          }
        }
      ]
    }
  ]
}